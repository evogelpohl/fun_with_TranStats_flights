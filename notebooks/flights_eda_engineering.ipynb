{
 "cells": [
  {
   "cell_type": "markdown",
   "metadata": {},
   "source": [
    "# BTS On-Time Flights — EDA, Cleaning, and Feature Engineering\n",
    "\n",
    "This notebook prepares 2024 BTS on-time performance data for downstream BI by:\n",
    "- Standardizing column names and dtypes\n",
    "- Cleaning nulls/sparse columns and applying schema\n",
    "- Engineering features (FE1–FE6) per instructions\n",
    "- Exporting a clean, sampled Parquet for analysis"
   ]
  },
  {
   "cell_type": "markdown",
   "metadata": {},
   "source": [
    "## Setup & Imports\n",
    "Imports used throughout; keep code readable and efficient."
   ]
  },
  {
   "cell_type": "code",
   "execution_count": 19,
   "id": "5eed8eda",
   "metadata": {},
   "outputs": [
    {
     "data": {
      "application/vnd.microsoft.datawrangler.viewer.v0+json": {
       "columns": [
        {
         "name": "index",
         "rawType": "int64",
         "type": "integer"
        },
        {
         "name": "ok",
         "rawType": "int64",
         "type": "integer"
        }
       ],
       "ref": "13d04ccf-fb50-4288-87af-995769907917",
       "rows": [
        [
         "0",
         "1"
        ],
        [
         "1",
         "2"
        ],
        [
         "2",
         "3"
        ]
       ],
       "shape": {
        "columns": 1,
        "rows": 3
       }
      },
      "text/html": [
       "<div>\n",
       "<style scoped>\n",
       "    .dataframe tbody tr th:only-of-type {\n",
       "        vertical-align: middle;\n",
       "    }\n",
       "\n",
       "    .dataframe tbody tr th {\n",
       "        vertical-align: top;\n",
       "    }\n",
       "\n",
       "    .dataframe thead th {\n",
       "        text-align: right;\n",
       "    }\n",
       "</style>\n",
       "<table border=\"1\" class=\"dataframe\">\n",
       "  <thead>\n",
       "    <tr style=\"text-align: right;\">\n",
       "      <th></th>\n",
       "      <th>ok</th>\n",
       "    </tr>\n",
       "  </thead>\n",
       "  <tbody>\n",
       "    <tr>\n",
       "      <th>0</th>\n",
       "      <td>1</td>\n",
       "    </tr>\n",
       "    <tr>\n",
       "      <th>1</th>\n",
       "      <td>2</td>\n",
       "    </tr>\n",
       "    <tr>\n",
       "      <th>2</th>\n",
       "      <td>3</td>\n",
       "    </tr>\n",
       "  </tbody>\n",
       "</table>\n",
       "</div>"
      ],
      "text/plain": [
       "   ok\n",
       "0   1\n",
       "1   2\n",
       "2   3"
      ]
     },
     "metadata": {},
     "output_type": "display_data"
    }
   ],
   "source": [
    "import os, math, re, sys, json\n",
    "from pathlib import Path\n",
    "import numpy as np\n",
    "import pandas as pd\n",
    "import matplotlib.pyplot as plt\n",
    "import seaborn as sns\n",
    "\n",
    "pd.set_option('display.max_columns', 120)\n",
    "pd.set_option('display.width', 160)\n",
    "\n",
    "# Light style for quick checks\n",
    "sns.set_context('notebook')\n",
    "\n",
    "# Utility: show small previews consistently\n",
    "def preview(df, n=3):\n",
    "    try:\n",
    "        display(df.head(n))\n",
    "    except NameError:\n",
    "        return df.head(n)\n",
    "\n",
    "preview(pd.DataFrame({'ok': [1,2,3]}))"
   ]
  },
  {
   "cell_type": "markdown",
   "id": "6c86c0e0",
   "metadata": {},
   "source": [
    "## Globals & Configuration\n",
    "Collect all tweakable variables in one place for easy modification."
   ]
  },
  {
   "cell_type": "code",
   "execution_count": 20,
   "id": "eb23b964",
   "metadata": {},
   "outputs": [
    {
     "name": "stdout",
     "output_type": "stream",
     "text": [
      "Config — TEST_MODE: 1 | READ_NROWS: 50000\n",
      "Flights path exists: True\n",
      "Dims path exists: True\n"
     ]
    },
    {
     "data": {
      "application/vnd.microsoft.datawrangler.viewer.v0+json": {
       "columns": [
        {
         "name": "index",
         "rawType": "int64",
         "type": "integer"
        },
        {
         "name": "flights_dir",
         "rawType": "object",
         "type": "string"
        },
        {
         "name": "dims_dir",
         "rawType": "object",
         "type": "string"
        }
       ],
       "ref": "9e62c635-5867-42f5-b94c-5a446694dcf9",
       "rows": [
        [
         "0",
         "../data/flights",
         "../data/dims"
        ]
       ],
       "shape": {
        "columns": 2,
        "rows": 1
       }
      },
      "text/html": [
       "<div>\n",
       "<style scoped>\n",
       "    .dataframe tbody tr th:only-of-type {\n",
       "        vertical-align: middle;\n",
       "    }\n",
       "\n",
       "    .dataframe tbody tr th {\n",
       "        vertical-align: top;\n",
       "    }\n",
       "\n",
       "    .dataframe thead th {\n",
       "        text-align: right;\n",
       "    }\n",
       "</style>\n",
       "<table border=\"1\" class=\"dataframe\">\n",
       "  <thead>\n",
       "    <tr style=\"text-align: right;\">\n",
       "      <th></th>\n",
       "      <th>flights_dir</th>\n",
       "      <th>dims_dir</th>\n",
       "    </tr>\n",
       "  </thead>\n",
       "  <tbody>\n",
       "    <tr>\n",
       "      <th>0</th>\n",
       "      <td>../data/flights</td>\n",
       "      <td>../data/dims</td>\n",
       "    </tr>\n",
       "  </tbody>\n",
       "</table>\n",
       "</div>"
      ],
      "text/plain": [
       "       flights_dir      dims_dir\n",
       "0  ../data/flights  ../data/dims"
      ]
     },
     "metadata": {},
     "output_type": "display_data"
    }
   ],
   "source": [
    "# Paths\n",
    "DATA_DIR = Path('../data')\n",
    "FLIGHTS_DIR = DATA_DIR / 'flights'\n",
    "DIMS_DIR = DATA_DIR / 'dims'\n",
    "OUTPUT_DIR = DATA_DIR / 'output'\n",
    "OUTPUT_DIR.mkdir(parents=True, exist_ok=True)\n",
    "\n",
    "# Cleaning configuration\n",
    "SPARSE_NULL_THRESHOLD = 0.80  # drop columns with >= 80% nulls\n",
    "CRITICAL_FIELDS = ['depdelayminutes', 'depdel15']  # rows missing these are dropped\n",
    "\n",
    "# Sampling configuration (FE6)\n",
    "SAMPLE_RATE = 0.10  # 10% stratified sample\n",
    "RANDOM_STATE = 42\n",
    "SAMPLE_KEYS = ['month', 'iata_code_reporting_airline', 'depdel15']\n",
    "\n",
    "# Output files\n",
    "OUTPUT_PARQUET = OUTPUT_DIR / 'flights_2024_clean_sampled.parquet'\n",
    "\n",
    "# Plotting toggles (set False to skip generating figures)\n",
    "SHOW_PLOTS = True\n",
    "\n",
    "# Test mode for fast headless runs (CLI/CI)\n",
    "TEST_MODE = 1\n",
    "READ_NROWS = 50000 if TEST_MODE else None\n",
    "if TEST_MODE:\n",
    "    SHOW_PLOTS = False\n",
    "print('Config — TEST_MODE:', TEST_MODE, '| READ_NROWS:', READ_NROWS)\n",
    "\n",
    "# Helper: column standardization (lowercase; replace spaces with underscores)\n",
    "def standardize_columns(df: pd.DataFrame) -> pd.DataFrame:\n",
    "    df = df.copy()\n",
    "    df.columns = [c.strip().lower().replace(' ', '_') for c in df.columns]\n",
    "    return df\n",
    "\n",
    "# Quick check of directories\n",
    "print('Flights path exists:', FLIGHTS_DIR.exists())\n",
    "print('Dims path exists:', DIMS_DIR.exists())\n",
    "preview(pd.DataFrame({'flights_dir': [str(FLIGHTS_DIR)], 'dims_dir': [str(DIMS_DIR)]}))"
   ]
  },
  {
   "cell_type": "markdown",
   "id": "345b382a",
   "metadata": {},
   "source": [
    "## Discover Input Files\n",
    "List available monthly CSVs and dims files."
   ]
  },
  {
   "cell_type": "code",
   "execution_count": 21,
   "id": "3c66018d",
   "metadata": {},
   "outputs": [
    {
     "name": "stdout",
     "output_type": "stream",
     "text": [
      "Total flight CSVs: 12\n"
     ]
    },
    {
     "data": {
      "application/vnd.microsoft.datawrangler.viewer.v0+json": {
       "columns": [
        {
         "name": "index",
         "rawType": "int64",
         "type": "integer"
        },
        {
         "name": "file",
         "rawType": "object",
         "type": "string"
        }
       ],
       "ref": "4c281c1d-64ab-4c86-874a-a562d9729e68",
       "rows": [
        [
         "0",
         "On_Time_Reporting_Carrier_On_Time_Performance_(1987_present)_2024_1.csv"
        ],
        [
         "1",
         "On_Time_Reporting_Carrier_On_Time_Performance_(1987_present)_2024_10.csv"
        ],
        [
         "2",
         "On_Time_Reporting_Carrier_On_Time_Performance_(1987_present)_2024_11.csv"
        ]
       ],
       "shape": {
        "columns": 1,
        "rows": 3
       }
      },
      "text/html": [
       "<div>\n",
       "<style scoped>\n",
       "    .dataframe tbody tr th:only-of-type {\n",
       "        vertical-align: middle;\n",
       "    }\n",
       "\n",
       "    .dataframe tbody tr th {\n",
       "        vertical-align: top;\n",
       "    }\n",
       "\n",
       "    .dataframe thead th {\n",
       "        text-align: right;\n",
       "    }\n",
       "</style>\n",
       "<table border=\"1\" class=\"dataframe\">\n",
       "  <thead>\n",
       "    <tr style=\"text-align: right;\">\n",
       "      <th></th>\n",
       "      <th>file</th>\n",
       "    </tr>\n",
       "  </thead>\n",
       "  <tbody>\n",
       "    <tr>\n",
       "      <th>0</th>\n",
       "      <td>On_Time_Reporting_Carrier_On_Time_Performance_...</td>\n",
       "    </tr>\n",
       "    <tr>\n",
       "      <th>1</th>\n",
       "      <td>On_Time_Reporting_Carrier_On_Time_Performance_...</td>\n",
       "    </tr>\n",
       "    <tr>\n",
       "      <th>2</th>\n",
       "      <td>On_Time_Reporting_Carrier_On_Time_Performance_...</td>\n",
       "    </tr>\n",
       "  </tbody>\n",
       "</table>\n",
       "</div>"
      ],
      "text/plain": [
       "                                                file\n",
       "0  On_Time_Reporting_Carrier_On_Time_Performance_...\n",
       "1  On_Time_Reporting_Carrier_On_Time_Performance_...\n",
       "2  On_Time_Reporting_Carrier_On_Time_Performance_..."
      ]
     },
     "metadata": {},
     "output_type": "display_data"
    },
    {
     "data": {
      "application/vnd.microsoft.datawrangler.viewer.v0+json": {
       "columns": [
        {
         "name": "index",
         "rawType": "int64",
         "type": "integer"
        },
        {
         "name": "dims_airport",
         "rawType": "object",
         "type": "string"
        },
        {
         "name": "dims_airline",
         "rawType": "object",
         "type": "string"
        }
       ],
       "ref": "cfafddb8-a20e-47fc-b5c2-4715a9fa07f9",
       "rows": [
        [
         "0",
         "T_MASTER_CORD.csv",
         "L_AIRLINE_ID.csv"
        ]
       ],
       "shape": {
        "columns": 2,
        "rows": 1
       }
      },
      "text/html": [
       "<div>\n",
       "<style scoped>\n",
       "    .dataframe tbody tr th:only-of-type {\n",
       "        vertical-align: middle;\n",
       "    }\n",
       "\n",
       "    .dataframe tbody tr th {\n",
       "        vertical-align: top;\n",
       "    }\n",
       "\n",
       "    .dataframe thead th {\n",
       "        text-align: right;\n",
       "    }\n",
       "</style>\n",
       "<table border=\"1\" class=\"dataframe\">\n",
       "  <thead>\n",
       "    <tr style=\"text-align: right;\">\n",
       "      <th></th>\n",
       "      <th>dims_airport</th>\n",
       "      <th>dims_airline</th>\n",
       "    </tr>\n",
       "  </thead>\n",
       "  <tbody>\n",
       "    <tr>\n",
       "      <th>0</th>\n",
       "      <td>T_MASTER_CORD.csv</td>\n",
       "      <td>L_AIRLINE_ID.csv</td>\n",
       "    </tr>\n",
       "  </tbody>\n",
       "</table>\n",
       "</div>"
      ],
      "text/plain": [
       "        dims_airport      dims_airline\n",
       "0  T_MASTER_CORD.csv  L_AIRLINE_ID.csv"
      ]
     },
     "metadata": {},
     "output_type": "display_data"
    }
   ],
   "source": [
    "flight_files = sorted(FLIGHTS_DIR.glob('*.csv'))\n",
    "dims_airport_path = DIMS_DIR / 'T_MASTER_CORD.csv'\n",
    "dims_airline_path = DIMS_DIR / 'L_AIRLINE_ID.csv'\n",
    "\n",
    "print(f'Total flight CSVs: {len(flight_files)}')\n",
    "preview(pd.DataFrame({'file': [p.name for p in flight_files]}).head(3))\n",
    "preview(pd.DataFrame({'dims_airport': [dims_airport_path.name], 'dims_airline': [dims_airline_path.name]}))"
   ]
  },
  {
   "cell_type": "markdown",
   "id": "c8bc1efb",
   "metadata": {},
   "source": [
    "## Load Flights (All Months)\n",
    "Load monthly CSVs, standardize column names, and concatenate. For memory safety, we defer heavy casting until after pruning."
   ]
  },
  {
   "cell_type": "code",
   "execution_count": 22,
   "id": "80bfe4ef",
   "metadata": {},
   "outputs": [
    {
     "name": "stdout",
     "output_type": "stream",
     "text": [
      "Reading 12 files with nrows = 50000\n",
      "Rows: 600000 Cols: 110\n"
     ]
    },
    {
     "data": {
      "application/vnd.microsoft.datawrangler.viewer.v0+json": {
       "columns": [
        {
         "name": "index",
         "rawType": "int64",
         "type": "integer"
        },
        {
         "name": "year",
         "rawType": "object",
         "type": "string"
        },
        {
         "name": "quarter",
         "rawType": "object",
         "type": "string"
        },
        {
         "name": "month",
         "rawType": "object",
         "type": "string"
        },
        {
         "name": "dayofmonth",
         "rawType": "object",
         "type": "string"
        },
        {
         "name": "dayofweek",
         "rawType": "object",
         "type": "string"
        },
        {
         "name": "flightdate",
         "rawType": "object",
         "type": "string"
        },
        {
         "name": "reporting_airline",
         "rawType": "object",
         "type": "string"
        },
        {
         "name": "dot_id_reporting_airline",
         "rawType": "object",
         "type": "string"
        },
        {
         "name": "iata_code_reporting_airline",
         "rawType": "object",
         "type": "string"
        },
        {
         "name": "tail_number",
         "rawType": "object",
         "type": "string"
        },
        {
         "name": "flight_number_reporting_airline",
         "rawType": "object",
         "type": "string"
        },
        {
         "name": "originairportid",
         "rawType": "object",
         "type": "string"
        },
        {
         "name": "originairportseqid",
         "rawType": "object",
         "type": "string"
        },
        {
         "name": "origincitymarketid",
         "rawType": "object",
         "type": "string"
        },
        {
         "name": "origin",
         "rawType": "object",
         "type": "string"
        },
        {
         "name": "origincityname",
         "rawType": "object",
         "type": "string"
        },
        {
         "name": "originstate",
         "rawType": "object",
         "type": "string"
        },
        {
         "name": "originstatefips",
         "rawType": "object",
         "type": "string"
        },
        {
         "name": "originstatename",
         "rawType": "object",
         "type": "string"
        },
        {
         "name": "originwac",
         "rawType": "object",
         "type": "string"
        },
        {
         "name": "destairportid",
         "rawType": "object",
         "type": "string"
        },
        {
         "name": "destairportseqid",
         "rawType": "object",
         "type": "string"
        },
        {
         "name": "destcitymarketid",
         "rawType": "object",
         "type": "string"
        },
        {
         "name": "dest",
         "rawType": "object",
         "type": "string"
        },
        {
         "name": "destcityname",
         "rawType": "object",
         "type": "string"
        },
        {
         "name": "deststate",
         "rawType": "object",
         "type": "string"
        },
        {
         "name": "deststatefips",
         "rawType": "object",
         "type": "string"
        },
        {
         "name": "deststatename",
         "rawType": "object",
         "type": "string"
        },
        {
         "name": "destwac",
         "rawType": "object",
         "type": "string"
        },
        {
         "name": "crsdeptime",
         "rawType": "object",
         "type": "string"
        },
        {
         "name": "deptime",
         "rawType": "object",
         "type": "string"
        },
        {
         "name": "depdelay",
         "rawType": "object",
         "type": "string"
        },
        {
         "name": "depdelayminutes",
         "rawType": "object",
         "type": "string"
        },
        {
         "name": "depdel15",
         "rawType": "object",
         "type": "string"
        },
        {
         "name": "departuredelaygroups",
         "rawType": "object",
         "type": "string"
        },
        {
         "name": "deptimeblk",
         "rawType": "object",
         "type": "string"
        },
        {
         "name": "taxiout",
         "rawType": "object",
         "type": "string"
        },
        {
         "name": "wheelsoff",
         "rawType": "object",
         "type": "string"
        },
        {
         "name": "wheelson",
         "rawType": "object",
         "type": "string"
        },
        {
         "name": "taxiin",
         "rawType": "object",
         "type": "string"
        },
        {
         "name": "crsarrtime",
         "rawType": "object",
         "type": "string"
        },
        {
         "name": "arrtime",
         "rawType": "object",
         "type": "string"
        },
        {
         "name": "arrdelay",
         "rawType": "object",
         "type": "string"
        },
        {
         "name": "arrdelayminutes",
         "rawType": "object",
         "type": "string"
        },
        {
         "name": "arrdel15",
         "rawType": "object",
         "type": "string"
        },
        {
         "name": "arrivaldelaygroups",
         "rawType": "object",
         "type": "string"
        },
        {
         "name": "arrtimeblk",
         "rawType": "object",
         "type": "string"
        },
        {
         "name": "cancelled",
         "rawType": "object",
         "type": "string"
        },
        {
         "name": "cancellationcode",
         "rawType": "object",
         "type": "unknown"
        },
        {
         "name": "diverted",
         "rawType": "object",
         "type": "string"
        },
        {
         "name": "crselapsedtime",
         "rawType": "object",
         "type": "string"
        },
        {
         "name": "actualelapsedtime",
         "rawType": "object",
         "type": "string"
        },
        {
         "name": "airtime",
         "rawType": "object",
         "type": "string"
        },
        {
         "name": "flights",
         "rawType": "object",
         "type": "string"
        },
        {
         "name": "distance",
         "rawType": "object",
         "type": "string"
        },
        {
         "name": "distancegroup",
         "rawType": "object",
         "type": "string"
        },
        {
         "name": "carrierdelay",
         "rawType": "object",
         "type": "unknown"
        },
        {
         "name": "weatherdelay",
         "rawType": "object",
         "type": "unknown"
        },
        {
         "name": "nasdelay",
         "rawType": "object",
         "type": "unknown"
        },
        {
         "name": "securitydelay",
         "rawType": "object",
         "type": "unknown"
        },
        {
         "name": "lateaircraftdelay",
         "rawType": "object",
         "type": "unknown"
        },
        {
         "name": "firstdeptime",
         "rawType": "object",
         "type": "unknown"
        },
        {
         "name": "totaladdgtime",
         "rawType": "object",
         "type": "unknown"
        },
        {
         "name": "longestaddgtime",
         "rawType": "object",
         "type": "unknown"
        },
        {
         "name": "divairportlandings",
         "rawType": "object",
         "type": "string"
        },
        {
         "name": "divreacheddest",
         "rawType": "object",
         "type": "unknown"
        },
        {
         "name": "divactualelapsedtime",
         "rawType": "object",
         "type": "unknown"
        },
        {
         "name": "divarrdelay",
         "rawType": "object",
         "type": "unknown"
        },
        {
         "name": "divdistance",
         "rawType": "object",
         "type": "unknown"
        },
        {
         "name": "div1airport",
         "rawType": "object",
         "type": "unknown"
        },
        {
         "name": "div1airportid",
         "rawType": "object",
         "type": "unknown"
        },
        {
         "name": "div1airportseqid",
         "rawType": "object",
         "type": "unknown"
        },
        {
         "name": "div1wheelson",
         "rawType": "object",
         "type": "unknown"
        },
        {
         "name": "div1totalgtime",
         "rawType": "object",
         "type": "unknown"
        },
        {
         "name": "div1longestgtime",
         "rawType": "object",
         "type": "unknown"
        },
        {
         "name": "div1wheelsoff",
         "rawType": "object",
         "type": "unknown"
        },
        {
         "name": "div1tailnum",
         "rawType": "object",
         "type": "unknown"
        },
        {
         "name": "div2airport",
         "rawType": "object",
         "type": "unknown"
        },
        {
         "name": "div2airportid",
         "rawType": "object",
         "type": "unknown"
        },
        {
         "name": "div2airportseqid",
         "rawType": "object",
         "type": "unknown"
        },
        {
         "name": "div2wheelson",
         "rawType": "object",
         "type": "unknown"
        },
        {
         "name": "div2totalgtime",
         "rawType": "object",
         "type": "unknown"
        },
        {
         "name": "div2longestgtime",
         "rawType": "object",
         "type": "unknown"
        },
        {
         "name": "div2wheelsoff",
         "rawType": "object",
         "type": "unknown"
        },
        {
         "name": "div2tailnum",
         "rawType": "object",
         "type": "unknown"
        },
        {
         "name": "div3airport",
         "rawType": "object",
         "type": "unknown"
        },
        {
         "name": "div3airportid",
         "rawType": "object",
         "type": "unknown"
        },
        {
         "name": "div3airportseqid",
         "rawType": "object",
         "type": "unknown"
        },
        {
         "name": "div3wheelson",
         "rawType": "object",
         "type": "unknown"
        },
        {
         "name": "div3totalgtime",
         "rawType": "object",
         "type": "unknown"
        },
        {
         "name": "div3longestgtime",
         "rawType": "object",
         "type": "unknown"
        },
        {
         "name": "div3wheelsoff",
         "rawType": "object",
         "type": "unknown"
        },
        {
         "name": "div3tailnum",
         "rawType": "object",
         "type": "unknown"
        },
        {
         "name": "div4airport",
         "rawType": "object",
         "type": "unknown"
        },
        {
         "name": "div4airportid",
         "rawType": "object",
         "type": "unknown"
        },
        {
         "name": "div4airportseqid",
         "rawType": "object",
         "type": "unknown"
        },
        {
         "name": "div4wheelson",
         "rawType": "object",
         "type": "unknown"
        },
        {
         "name": "div4totalgtime",
         "rawType": "object",
         "type": "unknown"
        },
        {
         "name": "div4longestgtime",
         "rawType": "object",
         "type": "unknown"
        },
        {
         "name": "div4wheelsoff",
         "rawType": "object",
         "type": "unknown"
        },
        {
         "name": "div4tailnum",
         "rawType": "object",
         "type": "unknown"
        },
        {
         "name": "div5airport",
         "rawType": "object",
         "type": "unknown"
        },
        {
         "name": "div5airportid",
         "rawType": "object",
         "type": "unknown"
        },
        {
         "name": "div5airportseqid",
         "rawType": "object",
         "type": "unknown"
        },
        {
         "name": "div5wheelson",
         "rawType": "object",
         "type": "unknown"
        },
        {
         "name": "div5totalgtime",
         "rawType": "object",
         "type": "unknown"
        },
        {
         "name": "div5longestgtime",
         "rawType": "object",
         "type": "unknown"
        },
        {
         "name": "div5wheelsoff",
         "rawType": "object",
         "type": "unknown"
        },
        {
         "name": "div5tailnum",
         "rawType": "object",
         "type": "unknown"
        },
        {
         "name": "unnamed:_109",
         "rawType": "object",
         "type": "unknown"
        }
       ],
       "ref": "3b9025c4-d43b-464c-a63d-b0fd1265a538",
       "rows": [
        [
         "0",
         "2024",
         "1",
         "1",
         "8",
         "1",
         "2024-01-08",
         "9E",
         "20363",
         "9E",
         "N485PX",
         "4801",
         "12953",
         "1295304",
         "31703",
         "LGA",
         "New York, NY",
         "NY",
         "36",
         "New York",
         "22",
         "13871",
         "1387102",
         "33316",
         "OMA",
         "Omaha, NE",
         "NE",
         "31",
         "Nebraska",
         "65",
         "0856",
         "0851",
         "-5.00",
         "0.00",
         "0.00",
         "-1",
         "0800-0859",
         "25.00",
         "0916",
         "1120",
         "4.00",
         "1135",
         "1124",
         "-11.00",
         "0.00",
         "0.00",
         "-1",
         "1100-1159",
         "0.00",
         null,
         "0.00",
         "219.00",
         "213.00",
         "184.00",
         "1.00",
         "1148.00",
         "5",
         null,
         null,
         null,
         null,
         null,
         null,
         null,
         null,
         "0",
         null,
         null,
         null,
         null,
         null,
         null,
         null,
         null,
         null,
         null,
         null,
         null,
         null,
         null,
         null,
         null,
         null,
         null,
         null,
         null,
         null,
         null,
         null,
         null,
         null,
         null,
         null,
         null,
         null,
         null,
         null,
         null,
         null,
         null,
         null,
         null,
         null,
         null,
         null,
         null,
         null,
         null,
         null,
         null,
         null
        ],
        [
         "1",
         "2024",
         "1",
         "1",
         "9",
         "2",
         "2024-01-09",
         "9E",
         "20363",
         "9E",
         "N912XJ",
         "4801",
         "12953",
         "1295304",
         "31703",
         "LGA",
         "New York, NY",
         "NY",
         "36",
         "New York",
         "22",
         "13871",
         "1387102",
         "33316",
         "OMA",
         "Omaha, NE",
         "NE",
         "31",
         "Nebraska",
         "65",
         "0856",
         "0851",
         "-5.00",
         "0.00",
         "0.00",
         "-1",
         "0800-0859",
         "16.00",
         "0907",
         "1055",
         "12.00",
         "1135",
         "1107",
         "-28.00",
         "0.00",
         "0.00",
         "-2",
         "1100-1159",
         "0.00",
         null,
         "0.00",
         "219.00",
         "196.00",
         "168.00",
         "1.00",
         "1148.00",
         "5",
         null,
         null,
         null,
         null,
         null,
         null,
         null,
         null,
         "0",
         null,
         null,
         null,
         null,
         null,
         null,
         null,
         null,
         null,
         null,
         null,
         null,
         null,
         null,
         null,
         null,
         null,
         null,
         null,
         null,
         null,
         null,
         null,
         null,
         null,
         null,
         null,
         null,
         null,
         null,
         null,
         null,
         null,
         null,
         null,
         null,
         null,
         null,
         null,
         null,
         null,
         null,
         null,
         null,
         null
        ],
        [
         "2",
         "2024",
         "1",
         "1",
         "10",
         "3",
         "2024-01-10",
         "9E",
         "20363",
         "9E",
         "N918XJ",
         "4801",
         "12953",
         "1295304",
         "31703",
         "LGA",
         "New York, NY",
         "NY",
         "36",
         "New York",
         "22",
         "13871",
         "1387102",
         "33316",
         "OMA",
         "Omaha, NE",
         "NE",
         "31",
         "Nebraska",
         "65",
         "0856",
         "0850",
         "-6.00",
         "0.00",
         "0.00",
         "-1",
         "0800-0859",
         "17.00",
         "0907",
         "1104",
         "6.00",
         "1135",
         "1110",
         "-25.00",
         "0.00",
         "0.00",
         "-2",
         "1100-1159",
         "0.00",
         null,
         "0.00",
         "219.00",
         "200.00",
         "177.00",
         "1.00",
         "1148.00",
         "5",
         null,
         null,
         null,
         null,
         null,
         null,
         null,
         null,
         "0",
         null,
         null,
         null,
         null,
         null,
         null,
         null,
         null,
         null,
         null,
         null,
         null,
         null,
         null,
         null,
         null,
         null,
         null,
         null,
         null,
         null,
         null,
         null,
         null,
         null,
         null,
         null,
         null,
         null,
         null,
         null,
         null,
         null,
         null,
         null,
         null,
         null,
         null,
         null,
         null,
         null,
         null,
         null,
         null,
         null
        ]
       ],
       "shape": {
        "columns": 110,
        "rows": 3
       }
      },
      "text/html": [
       "<div>\n",
       "<style scoped>\n",
       "    .dataframe tbody tr th:only-of-type {\n",
       "        vertical-align: middle;\n",
       "    }\n",
       "\n",
       "    .dataframe tbody tr th {\n",
       "        vertical-align: top;\n",
       "    }\n",
       "\n",
       "    .dataframe thead th {\n",
       "        text-align: right;\n",
       "    }\n",
       "</style>\n",
       "<table border=\"1\" class=\"dataframe\">\n",
       "  <thead>\n",
       "    <tr style=\"text-align: right;\">\n",
       "      <th></th>\n",
       "      <th>year</th>\n",
       "      <th>quarter</th>\n",
       "      <th>month</th>\n",
       "      <th>dayofmonth</th>\n",
       "      <th>dayofweek</th>\n",
       "      <th>flightdate</th>\n",
       "      <th>reporting_airline</th>\n",
       "      <th>dot_id_reporting_airline</th>\n",
       "      <th>iata_code_reporting_airline</th>\n",
       "      <th>tail_number</th>\n",
       "      <th>flight_number_reporting_airline</th>\n",
       "      <th>originairportid</th>\n",
       "      <th>originairportseqid</th>\n",
       "      <th>origincitymarketid</th>\n",
       "      <th>origin</th>\n",
       "      <th>origincityname</th>\n",
       "      <th>originstate</th>\n",
       "      <th>originstatefips</th>\n",
       "      <th>originstatename</th>\n",
       "      <th>originwac</th>\n",
       "      <th>destairportid</th>\n",
       "      <th>destairportseqid</th>\n",
       "      <th>destcitymarketid</th>\n",
       "      <th>dest</th>\n",
       "      <th>destcityname</th>\n",
       "      <th>deststate</th>\n",
       "      <th>deststatefips</th>\n",
       "      <th>deststatename</th>\n",
       "      <th>destwac</th>\n",
       "      <th>crsdeptime</th>\n",
       "      <th>deptime</th>\n",
       "      <th>depdelay</th>\n",
       "      <th>depdelayminutes</th>\n",
       "      <th>depdel15</th>\n",
       "      <th>departuredelaygroups</th>\n",
       "      <th>deptimeblk</th>\n",
       "      <th>taxiout</th>\n",
       "      <th>wheelsoff</th>\n",
       "      <th>wheelson</th>\n",
       "      <th>taxiin</th>\n",
       "      <th>crsarrtime</th>\n",
       "      <th>arrtime</th>\n",
       "      <th>arrdelay</th>\n",
       "      <th>arrdelayminutes</th>\n",
       "      <th>arrdel15</th>\n",
       "      <th>arrivaldelaygroups</th>\n",
       "      <th>arrtimeblk</th>\n",
       "      <th>cancelled</th>\n",
       "      <th>cancellationcode</th>\n",
       "      <th>diverted</th>\n",
       "      <th>crselapsedtime</th>\n",
       "      <th>actualelapsedtime</th>\n",
       "      <th>airtime</th>\n",
       "      <th>flights</th>\n",
       "      <th>distance</th>\n",
       "      <th>distancegroup</th>\n",
       "      <th>carrierdelay</th>\n",
       "      <th>weatherdelay</th>\n",
       "      <th>nasdelay</th>\n",
       "      <th>securitydelay</th>\n",
       "      <th>lateaircraftdelay</th>\n",
       "      <th>firstdeptime</th>\n",
       "      <th>totaladdgtime</th>\n",
       "      <th>longestaddgtime</th>\n",
       "      <th>divairportlandings</th>\n",
       "      <th>divreacheddest</th>\n",
       "      <th>divactualelapsedtime</th>\n",
       "      <th>divarrdelay</th>\n",
       "      <th>divdistance</th>\n",
       "      <th>div1airport</th>\n",
       "      <th>div1airportid</th>\n",
       "      <th>div1airportseqid</th>\n",
       "      <th>div1wheelson</th>\n",
       "      <th>div1totalgtime</th>\n",
       "      <th>div1longestgtime</th>\n",
       "      <th>div1wheelsoff</th>\n",
       "      <th>div1tailnum</th>\n",
       "      <th>div2airport</th>\n",
       "      <th>div2airportid</th>\n",
       "      <th>div2airportseqid</th>\n",
       "      <th>div2wheelson</th>\n",
       "      <th>div2totalgtime</th>\n",
       "      <th>div2longestgtime</th>\n",
       "      <th>div2wheelsoff</th>\n",
       "      <th>div2tailnum</th>\n",
       "      <th>div3airport</th>\n",
       "      <th>div3airportid</th>\n",
       "      <th>div3airportseqid</th>\n",
       "      <th>div3wheelson</th>\n",
       "      <th>div3totalgtime</th>\n",
       "      <th>div3longestgtime</th>\n",
       "      <th>div3wheelsoff</th>\n",
       "      <th>div3tailnum</th>\n",
       "      <th>div4airport</th>\n",
       "      <th>div4airportid</th>\n",
       "      <th>div4airportseqid</th>\n",
       "      <th>div4wheelson</th>\n",
       "      <th>div4totalgtime</th>\n",
       "      <th>div4longestgtime</th>\n",
       "      <th>div4wheelsoff</th>\n",
       "      <th>div4tailnum</th>\n",
       "      <th>div5airport</th>\n",
       "      <th>div5airportid</th>\n",
       "      <th>div5airportseqid</th>\n",
       "      <th>div5wheelson</th>\n",
       "      <th>div5totalgtime</th>\n",
       "      <th>div5longestgtime</th>\n",
       "      <th>div5wheelsoff</th>\n",
       "      <th>div5tailnum</th>\n",
       "      <th>unnamed:_109</th>\n",
       "    </tr>\n",
       "  </thead>\n",
       "  <tbody>\n",
       "    <tr>\n",
       "      <th>0</th>\n",
       "      <td>2024</td>\n",
       "      <td>1</td>\n",
       "      <td>1</td>\n",
       "      <td>8</td>\n",
       "      <td>1</td>\n",
       "      <td>2024-01-08</td>\n",
       "      <td>9E</td>\n",
       "      <td>20363</td>\n",
       "      <td>9E</td>\n",
       "      <td>N485PX</td>\n",
       "      <td>4801</td>\n",
       "      <td>12953</td>\n",
       "      <td>1295304</td>\n",
       "      <td>31703</td>\n",
       "      <td>LGA</td>\n",
       "      <td>New York, NY</td>\n",
       "      <td>NY</td>\n",
       "      <td>36</td>\n",
       "      <td>New York</td>\n",
       "      <td>22</td>\n",
       "      <td>13871</td>\n",
       "      <td>1387102</td>\n",
       "      <td>33316</td>\n",
       "      <td>OMA</td>\n",
       "      <td>Omaha, NE</td>\n",
       "      <td>NE</td>\n",
       "      <td>31</td>\n",
       "      <td>Nebraska</td>\n",
       "      <td>65</td>\n",
       "      <td>0856</td>\n",
       "      <td>0851</td>\n",
       "      <td>-5.00</td>\n",
       "      <td>0.00</td>\n",
       "      <td>0.00</td>\n",
       "      <td>-1</td>\n",
       "      <td>0800-0859</td>\n",
       "      <td>25.00</td>\n",
       "      <td>0916</td>\n",
       "      <td>1120</td>\n",
       "      <td>4.00</td>\n",
       "      <td>1135</td>\n",
       "      <td>1124</td>\n",
       "      <td>-11.00</td>\n",
       "      <td>0.00</td>\n",
       "      <td>0.00</td>\n",
       "      <td>-1</td>\n",
       "      <td>1100-1159</td>\n",
       "      <td>0.00</td>\n",
       "      <td>NaN</td>\n",
       "      <td>0.00</td>\n",
       "      <td>219.00</td>\n",
       "      <td>213.00</td>\n",
       "      <td>184.00</td>\n",
       "      <td>1.00</td>\n",
       "      <td>1148.00</td>\n",
       "      <td>5</td>\n",
       "      <td>NaN</td>\n",
       "      <td>NaN</td>\n",
       "      <td>NaN</td>\n",
       "      <td>NaN</td>\n",
       "      <td>NaN</td>\n",
       "      <td>NaN</td>\n",
       "      <td>NaN</td>\n",
       "      <td>NaN</td>\n",
       "      <td>0</td>\n",
       "      <td>NaN</td>\n",
       "      <td>NaN</td>\n",
       "      <td>NaN</td>\n",
       "      <td>NaN</td>\n",
       "      <td>NaN</td>\n",
       "      <td>NaN</td>\n",
       "      <td>NaN</td>\n",
       "      <td>NaN</td>\n",
       "      <td>NaN</td>\n",
       "      <td>NaN</td>\n",
       "      <td>NaN</td>\n",
       "      <td>NaN</td>\n",
       "      <td>NaN</td>\n",
       "      <td>NaN</td>\n",
       "      <td>NaN</td>\n",
       "      <td>NaN</td>\n",
       "      <td>NaN</td>\n",
       "      <td>NaN</td>\n",
       "      <td>NaN</td>\n",
       "      <td>NaN</td>\n",
       "      <td>NaN</td>\n",
       "      <td>NaN</td>\n",
       "      <td>NaN</td>\n",
       "      <td>NaN</td>\n",
       "      <td>NaN</td>\n",
       "      <td>NaN</td>\n",
       "      <td>NaN</td>\n",
       "      <td>NaN</td>\n",
       "      <td>NaN</td>\n",
       "      <td>NaN</td>\n",
       "      <td>NaN</td>\n",
       "      <td>NaN</td>\n",
       "      <td>NaN</td>\n",
       "      <td>NaN</td>\n",
       "      <td>NaN</td>\n",
       "      <td>NaN</td>\n",
       "      <td>NaN</td>\n",
       "      <td>NaN</td>\n",
       "      <td>NaN</td>\n",
       "      <td>NaN</td>\n",
       "      <td>NaN</td>\n",
       "      <td>NaN</td>\n",
       "      <td>NaN</td>\n",
       "      <td>NaN</td>\n",
       "      <td>NaN</td>\n",
       "    </tr>\n",
       "    <tr>\n",
       "      <th>1</th>\n",
       "      <td>2024</td>\n",
       "      <td>1</td>\n",
       "      <td>1</td>\n",
       "      <td>9</td>\n",
       "      <td>2</td>\n",
       "      <td>2024-01-09</td>\n",
       "      <td>9E</td>\n",
       "      <td>20363</td>\n",
       "      <td>9E</td>\n",
       "      <td>N912XJ</td>\n",
       "      <td>4801</td>\n",
       "      <td>12953</td>\n",
       "      <td>1295304</td>\n",
       "      <td>31703</td>\n",
       "      <td>LGA</td>\n",
       "      <td>New York, NY</td>\n",
       "      <td>NY</td>\n",
       "      <td>36</td>\n",
       "      <td>New York</td>\n",
       "      <td>22</td>\n",
       "      <td>13871</td>\n",
       "      <td>1387102</td>\n",
       "      <td>33316</td>\n",
       "      <td>OMA</td>\n",
       "      <td>Omaha, NE</td>\n",
       "      <td>NE</td>\n",
       "      <td>31</td>\n",
       "      <td>Nebraska</td>\n",
       "      <td>65</td>\n",
       "      <td>0856</td>\n",
       "      <td>0851</td>\n",
       "      <td>-5.00</td>\n",
       "      <td>0.00</td>\n",
       "      <td>0.00</td>\n",
       "      <td>-1</td>\n",
       "      <td>0800-0859</td>\n",
       "      <td>16.00</td>\n",
       "      <td>0907</td>\n",
       "      <td>1055</td>\n",
       "      <td>12.00</td>\n",
       "      <td>1135</td>\n",
       "      <td>1107</td>\n",
       "      <td>-28.00</td>\n",
       "      <td>0.00</td>\n",
       "      <td>0.00</td>\n",
       "      <td>-2</td>\n",
       "      <td>1100-1159</td>\n",
       "      <td>0.00</td>\n",
       "      <td>NaN</td>\n",
       "      <td>0.00</td>\n",
       "      <td>219.00</td>\n",
       "      <td>196.00</td>\n",
       "      <td>168.00</td>\n",
       "      <td>1.00</td>\n",
       "      <td>1148.00</td>\n",
       "      <td>5</td>\n",
       "      <td>NaN</td>\n",
       "      <td>NaN</td>\n",
       "      <td>NaN</td>\n",
       "      <td>NaN</td>\n",
       "      <td>NaN</td>\n",
       "      <td>NaN</td>\n",
       "      <td>NaN</td>\n",
       "      <td>NaN</td>\n",
       "      <td>0</td>\n",
       "      <td>NaN</td>\n",
       "      <td>NaN</td>\n",
       "      <td>NaN</td>\n",
       "      <td>NaN</td>\n",
       "      <td>NaN</td>\n",
       "      <td>NaN</td>\n",
       "      <td>NaN</td>\n",
       "      <td>NaN</td>\n",
       "      <td>NaN</td>\n",
       "      <td>NaN</td>\n",
       "      <td>NaN</td>\n",
       "      <td>NaN</td>\n",
       "      <td>NaN</td>\n",
       "      <td>NaN</td>\n",
       "      <td>NaN</td>\n",
       "      <td>NaN</td>\n",
       "      <td>NaN</td>\n",
       "      <td>NaN</td>\n",
       "      <td>NaN</td>\n",
       "      <td>NaN</td>\n",
       "      <td>NaN</td>\n",
       "      <td>NaN</td>\n",
       "      <td>NaN</td>\n",
       "      <td>NaN</td>\n",
       "      <td>NaN</td>\n",
       "      <td>NaN</td>\n",
       "      <td>NaN</td>\n",
       "      <td>NaN</td>\n",
       "      <td>NaN</td>\n",
       "      <td>NaN</td>\n",
       "      <td>NaN</td>\n",
       "      <td>NaN</td>\n",
       "      <td>NaN</td>\n",
       "      <td>NaN</td>\n",
       "      <td>NaN</td>\n",
       "      <td>NaN</td>\n",
       "      <td>NaN</td>\n",
       "      <td>NaN</td>\n",
       "      <td>NaN</td>\n",
       "      <td>NaN</td>\n",
       "      <td>NaN</td>\n",
       "      <td>NaN</td>\n",
       "      <td>NaN</td>\n",
       "      <td>NaN</td>\n",
       "      <td>NaN</td>\n",
       "    </tr>\n",
       "    <tr>\n",
       "      <th>2</th>\n",
       "      <td>2024</td>\n",
       "      <td>1</td>\n",
       "      <td>1</td>\n",
       "      <td>10</td>\n",
       "      <td>3</td>\n",
       "      <td>2024-01-10</td>\n",
       "      <td>9E</td>\n",
       "      <td>20363</td>\n",
       "      <td>9E</td>\n",
       "      <td>N918XJ</td>\n",
       "      <td>4801</td>\n",
       "      <td>12953</td>\n",
       "      <td>1295304</td>\n",
       "      <td>31703</td>\n",
       "      <td>LGA</td>\n",
       "      <td>New York, NY</td>\n",
       "      <td>NY</td>\n",
       "      <td>36</td>\n",
       "      <td>New York</td>\n",
       "      <td>22</td>\n",
       "      <td>13871</td>\n",
       "      <td>1387102</td>\n",
       "      <td>33316</td>\n",
       "      <td>OMA</td>\n",
       "      <td>Omaha, NE</td>\n",
       "      <td>NE</td>\n",
       "      <td>31</td>\n",
       "      <td>Nebraska</td>\n",
       "      <td>65</td>\n",
       "      <td>0856</td>\n",
       "      <td>0850</td>\n",
       "      <td>-6.00</td>\n",
       "      <td>0.00</td>\n",
       "      <td>0.00</td>\n",
       "      <td>-1</td>\n",
       "      <td>0800-0859</td>\n",
       "      <td>17.00</td>\n",
       "      <td>0907</td>\n",
       "      <td>1104</td>\n",
       "      <td>6.00</td>\n",
       "      <td>1135</td>\n",
       "      <td>1110</td>\n",
       "      <td>-25.00</td>\n",
       "      <td>0.00</td>\n",
       "      <td>0.00</td>\n",
       "      <td>-2</td>\n",
       "      <td>1100-1159</td>\n",
       "      <td>0.00</td>\n",
       "      <td>NaN</td>\n",
       "      <td>0.00</td>\n",
       "      <td>219.00</td>\n",
       "      <td>200.00</td>\n",
       "      <td>177.00</td>\n",
       "      <td>1.00</td>\n",
       "      <td>1148.00</td>\n",
       "      <td>5</td>\n",
       "      <td>NaN</td>\n",
       "      <td>NaN</td>\n",
       "      <td>NaN</td>\n",
       "      <td>NaN</td>\n",
       "      <td>NaN</td>\n",
       "      <td>NaN</td>\n",
       "      <td>NaN</td>\n",
       "      <td>NaN</td>\n",
       "      <td>0</td>\n",
       "      <td>NaN</td>\n",
       "      <td>NaN</td>\n",
       "      <td>NaN</td>\n",
       "      <td>NaN</td>\n",
       "      <td>NaN</td>\n",
       "      <td>NaN</td>\n",
       "      <td>NaN</td>\n",
       "      <td>NaN</td>\n",
       "      <td>NaN</td>\n",
       "      <td>NaN</td>\n",
       "      <td>NaN</td>\n",
       "      <td>NaN</td>\n",
       "      <td>NaN</td>\n",
       "      <td>NaN</td>\n",
       "      <td>NaN</td>\n",
       "      <td>NaN</td>\n",
       "      <td>NaN</td>\n",
       "      <td>NaN</td>\n",
       "      <td>NaN</td>\n",
       "      <td>NaN</td>\n",
       "      <td>NaN</td>\n",
       "      <td>NaN</td>\n",
       "      <td>NaN</td>\n",
       "      <td>NaN</td>\n",
       "      <td>NaN</td>\n",
       "      <td>NaN</td>\n",
       "      <td>NaN</td>\n",
       "      <td>NaN</td>\n",
       "      <td>NaN</td>\n",
       "      <td>NaN</td>\n",
       "      <td>NaN</td>\n",
       "      <td>NaN</td>\n",
       "      <td>NaN</td>\n",
       "      <td>NaN</td>\n",
       "      <td>NaN</td>\n",
       "      <td>NaN</td>\n",
       "      <td>NaN</td>\n",
       "      <td>NaN</td>\n",
       "      <td>NaN</td>\n",
       "      <td>NaN</td>\n",
       "      <td>NaN</td>\n",
       "      <td>NaN</td>\n",
       "      <td>NaN</td>\n",
       "      <td>NaN</td>\n",
       "      <td>NaN</td>\n",
       "    </tr>\n",
       "  </tbody>\n",
       "</table>\n",
       "</div>"
      ],
      "text/plain": [
       "   year quarter month dayofmonth dayofweek  flightdate reporting_airline dot_id_reporting_airline iata_code_reporting_airline tail_number  \\\n",
       "0  2024       1     1          8         1  2024-01-08                9E                    20363                          9E      N485PX   \n",
       "1  2024       1     1          9         2  2024-01-09                9E                    20363                          9E      N912XJ   \n",
       "2  2024       1     1         10         3  2024-01-10                9E                    20363                          9E      N918XJ   \n",
       "\n",
       "  flight_number_reporting_airline originairportid originairportseqid origincitymarketid origin origincityname originstate originstatefips originstatename  \\\n",
       "0                            4801           12953            1295304              31703    LGA   New York, NY          NY              36        New York   \n",
       "1                            4801           12953            1295304              31703    LGA   New York, NY          NY              36        New York   \n",
       "2                            4801           12953            1295304              31703    LGA   New York, NY          NY              36        New York   \n",
       "\n",
       "  originwac destairportid destairportseqid destcitymarketid dest destcityname deststate deststatefips deststatename destwac crsdeptime deptime depdelay  \\\n",
       "0        22         13871          1387102            33316  OMA    Omaha, NE        NE            31      Nebraska      65       0856    0851    -5.00   \n",
       "1        22         13871          1387102            33316  OMA    Omaha, NE        NE            31      Nebraska      65       0856    0851    -5.00   \n",
       "2        22         13871          1387102            33316  OMA    Omaha, NE        NE            31      Nebraska      65       0856    0850    -6.00   \n",
       "\n",
       "  depdelayminutes depdel15 departuredelaygroups deptimeblk taxiout wheelsoff wheelson taxiin crsarrtime arrtime arrdelay arrdelayminutes arrdel15  \\\n",
       "0            0.00     0.00                   -1  0800-0859   25.00      0916     1120   4.00       1135    1124   -11.00            0.00     0.00   \n",
       "1            0.00     0.00                   -1  0800-0859   16.00      0907     1055  12.00       1135    1107   -28.00            0.00     0.00   \n",
       "2            0.00     0.00                   -1  0800-0859   17.00      0907     1104   6.00       1135    1110   -25.00            0.00     0.00   \n",
       "\n",
       "  arrivaldelaygroups arrtimeblk cancelled cancellationcode diverted crselapsedtime actualelapsedtime airtime flights distance distancegroup carrierdelay  \\\n",
       "0                 -1  1100-1159      0.00              NaN     0.00         219.00            213.00  184.00    1.00  1148.00             5          NaN   \n",
       "1                 -2  1100-1159      0.00              NaN     0.00         219.00            196.00  168.00    1.00  1148.00             5          NaN   \n",
       "2                 -2  1100-1159      0.00              NaN     0.00         219.00            200.00  177.00    1.00  1148.00             5          NaN   \n",
       "\n",
       "  weatherdelay nasdelay securitydelay lateaircraftdelay firstdeptime totaladdgtime longestaddgtime divairportlandings divreacheddest divactualelapsedtime  \\\n",
       "0          NaN      NaN           NaN               NaN          NaN           NaN             NaN                  0            NaN                  NaN   \n",
       "1          NaN      NaN           NaN               NaN          NaN           NaN             NaN                  0            NaN                  NaN   \n",
       "2          NaN      NaN           NaN               NaN          NaN           NaN             NaN                  0            NaN                  NaN   \n",
       "\n",
       "  divarrdelay divdistance div1airport div1airportid div1airportseqid div1wheelson div1totalgtime div1longestgtime div1wheelsoff div1tailnum div2airport  \\\n",
       "0         NaN         NaN         NaN           NaN              NaN          NaN            NaN              NaN           NaN         NaN         NaN   \n",
       "1         NaN         NaN         NaN           NaN              NaN          NaN            NaN              NaN           NaN         NaN         NaN   \n",
       "2         NaN         NaN         NaN           NaN              NaN          NaN            NaN              NaN           NaN         NaN         NaN   \n",
       "\n",
       "  div2airportid div2airportseqid div2wheelson div2totalgtime div2longestgtime div2wheelsoff div2tailnum div3airport div3airportid div3airportseqid  \\\n",
       "0           NaN              NaN          NaN            NaN              NaN           NaN         NaN         NaN           NaN              NaN   \n",
       "1           NaN              NaN          NaN            NaN              NaN           NaN         NaN         NaN           NaN              NaN   \n",
       "2           NaN              NaN          NaN            NaN              NaN           NaN         NaN         NaN           NaN              NaN   \n",
       "\n",
       "  div3wheelson div3totalgtime div3longestgtime div3wheelsoff div3tailnum div4airport div4airportid div4airportseqid div4wheelson div4totalgtime  \\\n",
       "0          NaN            NaN              NaN           NaN         NaN         NaN           NaN              NaN          NaN            NaN   \n",
       "1          NaN            NaN              NaN           NaN         NaN         NaN           NaN              NaN          NaN            NaN   \n",
       "2          NaN            NaN              NaN           NaN         NaN         NaN           NaN              NaN          NaN            NaN   \n",
       "\n",
       "  div4longestgtime div4wheelsoff div4tailnum div5airport div5airportid div5airportseqid div5wheelson div5totalgtime div5longestgtime div5wheelsoff  \\\n",
       "0              NaN           NaN         NaN         NaN           NaN              NaN          NaN            NaN              NaN           NaN   \n",
       "1              NaN           NaN         NaN         NaN           NaN              NaN          NaN            NaN              NaN           NaN   \n",
       "2              NaN           NaN         NaN         NaN           NaN              NaN          NaN            NaN              NaN           NaN   \n",
       "\n",
       "  div5tailnum unnamed:_109  \n",
       "0         NaN          NaN  \n",
       "1         NaN          NaN  \n",
       "2         NaN          NaN  "
      ]
     },
     "metadata": {},
     "output_type": "display_data"
    }
   ],
   "source": [
    "def read_flight_csv(path: Path) -> pd.DataFrame:\n",
    "    # Read as strings first to avoid mixed dtypes; cast later.\n",
    "    df = pd.read_csv(path, dtype=str, low_memory=False, nrows=READ_NROWS)\n",
    "    df = standardize_columns(df)\n",
    "    return df\n",
    "\n",
    "print('Reading', len(flight_files), 'files with nrows =', READ_NROWS)\n",
    "flights_list = [read_flight_csv(p) for p in flight_files]\n",
    "df = pd.concat(flights_list, ignore_index=True) if flights_list else pd.DataFrame()\n",
    "print('Rows:', len(df), 'Cols:', len(df.columns))\n",
    "preview(df)"
   ]
  },
  {
   "cell_type": "markdown",
   "id": "bac547bb",
   "metadata": {},
   "source": [
    "## Quick EDA: Missingness & Basic Sanity\n",
    "Understand nulls to inform pruning and dtype casting."
   ]
  },
  {
   "cell_type": "code",
   "execution_count": 23,
   "id": "cc69ee71",
   "metadata": {},
   "outputs": [
    {
     "data": {
      "application/vnd.microsoft.datawrangler.viewer.v0+json": {
       "columns": [
        {
         "name": "index",
         "rawType": "object",
         "type": "string"
        },
        {
         "name": "missing_frac",
         "rawType": "float64",
         "type": "float"
        }
       ],
       "ref": "b27ae0e7-95b9-4aaa-ae9f-ef78f4894fb7",
       "rows": [
        [
         "unnamed:_109",
         "1.0"
        ],
        [
         "div4totalgtime",
         "1.0"
        ],
        [
         "div3airport",
         "1.0"
        ]
       ],
       "shape": {
        "columns": 1,
        "rows": 3
       }
      },
      "text/html": [
       "<div>\n",
       "<style scoped>\n",
       "    .dataframe tbody tr th:only-of-type {\n",
       "        vertical-align: middle;\n",
       "    }\n",
       "\n",
       "    .dataframe tbody tr th {\n",
       "        vertical-align: top;\n",
       "    }\n",
       "\n",
       "    .dataframe thead th {\n",
       "        text-align: right;\n",
       "    }\n",
       "</style>\n",
       "<table border=\"1\" class=\"dataframe\">\n",
       "  <thead>\n",
       "    <tr style=\"text-align: right;\">\n",
       "      <th></th>\n",
       "      <th>missing_frac</th>\n",
       "    </tr>\n",
       "  </thead>\n",
       "  <tbody>\n",
       "    <tr>\n",
       "      <th>unnamed:_109</th>\n",
       "      <td>1.0</td>\n",
       "    </tr>\n",
       "    <tr>\n",
       "      <th>div4totalgtime</th>\n",
       "      <td>1.0</td>\n",
       "    </tr>\n",
       "    <tr>\n",
       "      <th>div3airport</th>\n",
       "      <td>1.0</td>\n",
       "    </tr>\n",
       "  </tbody>\n",
       "</table>\n",
       "</div>"
      ],
      "text/plain": [
       "                missing_frac\n",
       "unnamed:_109             1.0\n",
       "div4totalgtime           1.0\n",
       "div3airport              1.0"
      ]
     },
     "metadata": {},
     "output_type": "display_data"
    },
    {
     "data": {
      "application/vnd.microsoft.datawrangler.viewer.v0+json": {
       "columns": [
        {
         "name": "index",
         "rawType": "int64",
         "type": "integer"
        },
        {
         "name": "flightdate",
         "rawType": "object",
         "type": "string"
        },
        {
         "name": "month",
         "rawType": "object",
         "type": "string"
        },
        {
         "name": "origin",
         "rawType": "object",
         "type": "string"
        },
        {
         "name": "dest",
         "rawType": "object",
         "type": "string"
        },
        {
         "name": "crsdeptime",
         "rawType": "object",
         "type": "string"
        },
        {
         "name": "deptime",
         "rawType": "object",
         "type": "string"
        },
        {
         "name": "depdelay",
         "rawType": "object",
         "type": "string"
        },
        {
         "name": "depdelayminutes",
         "rawType": "object",
         "type": "string"
        },
        {
         "name": "depdel15",
         "rawType": "object",
         "type": "string"
        }
       ],
       "ref": "fb1c766b-a817-45a9-b776-9345521827cb",
       "rows": [
        [
         "0",
         "2024-01-08",
         "1",
         "LGA",
         "OMA",
         "0856",
         "0851",
         "-5.00",
         "0.00",
         "0.00"
        ],
        [
         "1",
         "2024-01-09",
         "1",
         "LGA",
         "OMA",
         "0856",
         "0851",
         "-5.00",
         "0.00",
         "0.00"
        ],
        [
         "2",
         "2024-01-10",
         "1",
         "LGA",
         "OMA",
         "0856",
         "0850",
         "-6.00",
         "0.00",
         "0.00"
        ]
       ],
       "shape": {
        "columns": 9,
        "rows": 3
       }
      },
      "text/html": [
       "<div>\n",
       "<style scoped>\n",
       "    .dataframe tbody tr th:only-of-type {\n",
       "        vertical-align: middle;\n",
       "    }\n",
       "\n",
       "    .dataframe tbody tr th {\n",
       "        vertical-align: top;\n",
       "    }\n",
       "\n",
       "    .dataframe thead th {\n",
       "        text-align: right;\n",
       "    }\n",
       "</style>\n",
       "<table border=\"1\" class=\"dataframe\">\n",
       "  <thead>\n",
       "    <tr style=\"text-align: right;\">\n",
       "      <th></th>\n",
       "      <th>flightdate</th>\n",
       "      <th>month</th>\n",
       "      <th>origin</th>\n",
       "      <th>dest</th>\n",
       "      <th>crsdeptime</th>\n",
       "      <th>deptime</th>\n",
       "      <th>depdelay</th>\n",
       "      <th>depdelayminutes</th>\n",
       "      <th>depdel15</th>\n",
       "    </tr>\n",
       "  </thead>\n",
       "  <tbody>\n",
       "    <tr>\n",
       "      <th>0</th>\n",
       "      <td>2024-01-08</td>\n",
       "      <td>1</td>\n",
       "      <td>LGA</td>\n",
       "      <td>OMA</td>\n",
       "      <td>0856</td>\n",
       "      <td>0851</td>\n",
       "      <td>-5.00</td>\n",
       "      <td>0.00</td>\n",
       "      <td>0.00</td>\n",
       "    </tr>\n",
       "    <tr>\n",
       "      <th>1</th>\n",
       "      <td>2024-01-09</td>\n",
       "      <td>1</td>\n",
       "      <td>LGA</td>\n",
       "      <td>OMA</td>\n",
       "      <td>0856</td>\n",
       "      <td>0851</td>\n",
       "      <td>-5.00</td>\n",
       "      <td>0.00</td>\n",
       "      <td>0.00</td>\n",
       "    </tr>\n",
       "    <tr>\n",
       "      <th>2</th>\n",
       "      <td>2024-01-10</td>\n",
       "      <td>1</td>\n",
       "      <td>LGA</td>\n",
       "      <td>OMA</td>\n",
       "      <td>0856</td>\n",
       "      <td>0850</td>\n",
       "      <td>-6.00</td>\n",
       "      <td>0.00</td>\n",
       "      <td>0.00</td>\n",
       "    </tr>\n",
       "  </tbody>\n",
       "</table>\n",
       "</div>"
      ],
      "text/plain": [
       "   flightdate month origin dest crsdeptime deptime depdelay depdelayminutes depdel15\n",
       "0  2024-01-08     1    LGA  OMA       0856    0851    -5.00            0.00     0.00\n",
       "1  2024-01-09     1    LGA  OMA       0856    0851    -5.00            0.00     0.00\n",
       "2  2024-01-10     1    LGA  OMA       0856    0850    -6.00            0.00     0.00"
      ]
     },
     "metadata": {},
     "output_type": "display_data"
    }
   ],
   "source": [
    "if not df.empty:\n",
    "    missing_frac = df.isna().mean().sort_values(ascending=False)\n",
    "    preview(missing_frac.to_frame('missing_frac'))\n",
    "    preview(df[['flightdate','month','origin','dest','crsdeptime','deptime','depdelay','depdelayminutes','depdel15']].head(3))\n",
    "else:\n",
    "    preview(pd.DataFrame({'note': ['no data loaded']}))"
   ]
  },
  {
   "cell_type": "markdown",
   "id": "6bc3c754",
   "metadata": {},
   "source": [
    "## DE1: Drop Rows Missing Critical Fields\n",
    "Remove rows where `depdelayminutes` or `depdel15` is null/blank."
   ]
  },
  {
   "cell_type": "code",
   "execution_count": 24,
   "id": "b4de4406",
   "metadata": {},
   "outputs": [
    {
     "name": "stdout",
     "output_type": "stream",
     "text": [
      "Dropped rows (critical nulls): 9526 Remaining: 590474\n"
     ]
    },
    {
     "data": {
      "application/vnd.microsoft.datawrangler.viewer.v0+json": {
       "columns": [
        {
         "name": "index",
         "rawType": "int64",
         "type": "integer"
        },
        {
         "name": "year",
         "rawType": "object",
         "type": "string"
        },
        {
         "name": "quarter",
         "rawType": "object",
         "type": "string"
        },
        {
         "name": "month",
         "rawType": "object",
         "type": "string"
        },
        {
         "name": "dayofmonth",
         "rawType": "object",
         "type": "string"
        },
        {
         "name": "dayofweek",
         "rawType": "object",
         "type": "string"
        },
        {
         "name": "flightdate",
         "rawType": "object",
         "type": "string"
        },
        {
         "name": "reporting_airline",
         "rawType": "object",
         "type": "string"
        },
        {
         "name": "dot_id_reporting_airline",
         "rawType": "object",
         "type": "string"
        },
        {
         "name": "iata_code_reporting_airline",
         "rawType": "object",
         "type": "string"
        },
        {
         "name": "tail_number",
         "rawType": "object",
         "type": "string"
        },
        {
         "name": "flight_number_reporting_airline",
         "rawType": "object",
         "type": "string"
        },
        {
         "name": "originairportid",
         "rawType": "object",
         "type": "string"
        },
        {
         "name": "originairportseqid",
         "rawType": "object",
         "type": "string"
        },
        {
         "name": "origincitymarketid",
         "rawType": "object",
         "type": "string"
        },
        {
         "name": "origin",
         "rawType": "object",
         "type": "string"
        },
        {
         "name": "origincityname",
         "rawType": "object",
         "type": "string"
        },
        {
         "name": "originstate",
         "rawType": "object",
         "type": "string"
        },
        {
         "name": "originstatefips",
         "rawType": "object",
         "type": "string"
        },
        {
         "name": "originstatename",
         "rawType": "object",
         "type": "string"
        },
        {
         "name": "originwac",
         "rawType": "object",
         "type": "string"
        },
        {
         "name": "destairportid",
         "rawType": "object",
         "type": "string"
        },
        {
         "name": "destairportseqid",
         "rawType": "object",
         "type": "string"
        },
        {
         "name": "destcitymarketid",
         "rawType": "object",
         "type": "string"
        },
        {
         "name": "dest",
         "rawType": "object",
         "type": "string"
        },
        {
         "name": "destcityname",
         "rawType": "object",
         "type": "string"
        },
        {
         "name": "deststate",
         "rawType": "object",
         "type": "string"
        },
        {
         "name": "deststatefips",
         "rawType": "object",
         "type": "string"
        },
        {
         "name": "deststatename",
         "rawType": "object",
         "type": "string"
        },
        {
         "name": "destwac",
         "rawType": "object",
         "type": "string"
        },
        {
         "name": "crsdeptime",
         "rawType": "object",
         "type": "string"
        },
        {
         "name": "deptime",
         "rawType": "object",
         "type": "string"
        },
        {
         "name": "depdelay",
         "rawType": "object",
         "type": "string"
        },
        {
         "name": "depdelayminutes",
         "rawType": "object",
         "type": "string"
        },
        {
         "name": "depdel15",
         "rawType": "object",
         "type": "string"
        },
        {
         "name": "departuredelaygroups",
         "rawType": "object",
         "type": "string"
        },
        {
         "name": "deptimeblk",
         "rawType": "object",
         "type": "string"
        },
        {
         "name": "taxiout",
         "rawType": "object",
         "type": "string"
        },
        {
         "name": "wheelsoff",
         "rawType": "object",
         "type": "string"
        },
        {
         "name": "wheelson",
         "rawType": "object",
         "type": "string"
        },
        {
         "name": "taxiin",
         "rawType": "object",
         "type": "string"
        },
        {
         "name": "crsarrtime",
         "rawType": "object",
         "type": "string"
        },
        {
         "name": "arrtime",
         "rawType": "object",
         "type": "string"
        },
        {
         "name": "arrdelay",
         "rawType": "object",
         "type": "string"
        },
        {
         "name": "arrdelayminutes",
         "rawType": "object",
         "type": "string"
        },
        {
         "name": "arrdel15",
         "rawType": "object",
         "type": "string"
        },
        {
         "name": "arrivaldelaygroups",
         "rawType": "object",
         "type": "string"
        },
        {
         "name": "arrtimeblk",
         "rawType": "object",
         "type": "string"
        },
        {
         "name": "cancelled",
         "rawType": "object",
         "type": "string"
        },
        {
         "name": "cancellationcode",
         "rawType": "object",
         "type": "unknown"
        },
        {
         "name": "diverted",
         "rawType": "object",
         "type": "string"
        },
        {
         "name": "crselapsedtime",
         "rawType": "object",
         "type": "string"
        },
        {
         "name": "actualelapsedtime",
         "rawType": "object",
         "type": "string"
        },
        {
         "name": "airtime",
         "rawType": "object",
         "type": "string"
        },
        {
         "name": "flights",
         "rawType": "object",
         "type": "string"
        },
        {
         "name": "distance",
         "rawType": "object",
         "type": "string"
        },
        {
         "name": "distancegroup",
         "rawType": "object",
         "type": "string"
        },
        {
         "name": "carrierdelay",
         "rawType": "object",
         "type": "unknown"
        },
        {
         "name": "weatherdelay",
         "rawType": "object",
         "type": "unknown"
        },
        {
         "name": "nasdelay",
         "rawType": "object",
         "type": "unknown"
        },
        {
         "name": "securitydelay",
         "rawType": "object",
         "type": "unknown"
        },
        {
         "name": "lateaircraftdelay",
         "rawType": "object",
         "type": "unknown"
        },
        {
         "name": "firstdeptime",
         "rawType": "object",
         "type": "unknown"
        },
        {
         "name": "totaladdgtime",
         "rawType": "object",
         "type": "unknown"
        },
        {
         "name": "longestaddgtime",
         "rawType": "object",
         "type": "unknown"
        },
        {
         "name": "divairportlandings",
         "rawType": "object",
         "type": "string"
        },
        {
         "name": "divreacheddest",
         "rawType": "object",
         "type": "unknown"
        },
        {
         "name": "divactualelapsedtime",
         "rawType": "object",
         "type": "unknown"
        },
        {
         "name": "divarrdelay",
         "rawType": "object",
         "type": "unknown"
        },
        {
         "name": "divdistance",
         "rawType": "object",
         "type": "unknown"
        },
        {
         "name": "div1airport",
         "rawType": "object",
         "type": "unknown"
        },
        {
         "name": "div1airportid",
         "rawType": "object",
         "type": "unknown"
        },
        {
         "name": "div1airportseqid",
         "rawType": "object",
         "type": "unknown"
        },
        {
         "name": "div1wheelson",
         "rawType": "object",
         "type": "unknown"
        },
        {
         "name": "div1totalgtime",
         "rawType": "object",
         "type": "unknown"
        },
        {
         "name": "div1longestgtime",
         "rawType": "object",
         "type": "unknown"
        },
        {
         "name": "div1wheelsoff",
         "rawType": "object",
         "type": "unknown"
        },
        {
         "name": "div1tailnum",
         "rawType": "object",
         "type": "unknown"
        },
        {
         "name": "div2airport",
         "rawType": "object",
         "type": "unknown"
        },
        {
         "name": "div2airportid",
         "rawType": "object",
         "type": "unknown"
        },
        {
         "name": "div2airportseqid",
         "rawType": "object",
         "type": "unknown"
        },
        {
         "name": "div2wheelson",
         "rawType": "object",
         "type": "unknown"
        },
        {
         "name": "div2totalgtime",
         "rawType": "object",
         "type": "unknown"
        },
        {
         "name": "div2longestgtime",
         "rawType": "object",
         "type": "unknown"
        },
        {
         "name": "div2wheelsoff",
         "rawType": "object",
         "type": "unknown"
        },
        {
         "name": "div2tailnum",
         "rawType": "object",
         "type": "unknown"
        },
        {
         "name": "div3airport",
         "rawType": "object",
         "type": "unknown"
        },
        {
         "name": "div3airportid",
         "rawType": "object",
         "type": "unknown"
        },
        {
         "name": "div3airportseqid",
         "rawType": "object",
         "type": "unknown"
        },
        {
         "name": "div3wheelson",
         "rawType": "object",
         "type": "unknown"
        },
        {
         "name": "div3totalgtime",
         "rawType": "object",
         "type": "unknown"
        },
        {
         "name": "div3longestgtime",
         "rawType": "object",
         "type": "unknown"
        },
        {
         "name": "div3wheelsoff",
         "rawType": "object",
         "type": "unknown"
        },
        {
         "name": "div3tailnum",
         "rawType": "object",
         "type": "unknown"
        },
        {
         "name": "div4airport",
         "rawType": "object",
         "type": "unknown"
        },
        {
         "name": "div4airportid",
         "rawType": "object",
         "type": "unknown"
        },
        {
         "name": "div4airportseqid",
         "rawType": "object",
         "type": "unknown"
        },
        {
         "name": "div4wheelson",
         "rawType": "object",
         "type": "unknown"
        },
        {
         "name": "div4totalgtime",
         "rawType": "object",
         "type": "unknown"
        },
        {
         "name": "div4longestgtime",
         "rawType": "object",
         "type": "unknown"
        },
        {
         "name": "div4wheelsoff",
         "rawType": "object",
         "type": "unknown"
        },
        {
         "name": "div4tailnum",
         "rawType": "object",
         "type": "unknown"
        },
        {
         "name": "div5airport",
         "rawType": "object",
         "type": "unknown"
        },
        {
         "name": "div5airportid",
         "rawType": "object",
         "type": "unknown"
        },
        {
         "name": "div5airportseqid",
         "rawType": "object",
         "type": "unknown"
        },
        {
         "name": "div5wheelson",
         "rawType": "object",
         "type": "unknown"
        },
        {
         "name": "div5totalgtime",
         "rawType": "object",
         "type": "unknown"
        },
        {
         "name": "div5longestgtime",
         "rawType": "object",
         "type": "unknown"
        },
        {
         "name": "div5wheelsoff",
         "rawType": "object",
         "type": "unknown"
        },
        {
         "name": "div5tailnum",
         "rawType": "object",
         "type": "unknown"
        },
        {
         "name": "unnamed:_109",
         "rawType": "object",
         "type": "unknown"
        }
       ],
       "ref": "af726cd7-f277-4f8e-bbc1-2121e628a172",
       "rows": [
        [
         "0",
         "2024",
         "1",
         "1",
         "8",
         "1",
         "2024-01-08",
         "9E",
         "20363",
         "9E",
         "N485PX",
         "4801",
         "12953",
         "1295304",
         "31703",
         "LGA",
         "New York, NY",
         "NY",
         "36",
         "New York",
         "22",
         "13871",
         "1387102",
         "33316",
         "OMA",
         "Omaha, NE",
         "NE",
         "31",
         "Nebraska",
         "65",
         "0856",
         "0851",
         "-5.00",
         "0.00",
         "0.00",
         "-1",
         "0800-0859",
         "25.00",
         "0916",
         "1120",
         "4.00",
         "1135",
         "1124",
         "-11.00",
         "0.00",
         "0.00",
         "-1",
         "1100-1159",
         "0.00",
         null,
         "0.00",
         "219.00",
         "213.00",
         "184.00",
         "1.00",
         "1148.00",
         "5",
         null,
         null,
         null,
         null,
         null,
         null,
         null,
         null,
         "0",
         null,
         null,
         null,
         null,
         null,
         null,
         null,
         null,
         null,
         null,
         null,
         null,
         null,
         null,
         null,
         null,
         null,
         null,
         null,
         null,
         null,
         null,
         null,
         null,
         null,
         null,
         null,
         null,
         null,
         null,
         null,
         null,
         null,
         null,
         null,
         null,
         null,
         null,
         null,
         null,
         null,
         null,
         null,
         null,
         null
        ],
        [
         "1",
         "2024",
         "1",
         "1",
         "9",
         "2",
         "2024-01-09",
         "9E",
         "20363",
         "9E",
         "N912XJ",
         "4801",
         "12953",
         "1295304",
         "31703",
         "LGA",
         "New York, NY",
         "NY",
         "36",
         "New York",
         "22",
         "13871",
         "1387102",
         "33316",
         "OMA",
         "Omaha, NE",
         "NE",
         "31",
         "Nebraska",
         "65",
         "0856",
         "0851",
         "-5.00",
         "0.00",
         "0.00",
         "-1",
         "0800-0859",
         "16.00",
         "0907",
         "1055",
         "12.00",
         "1135",
         "1107",
         "-28.00",
         "0.00",
         "0.00",
         "-2",
         "1100-1159",
         "0.00",
         null,
         "0.00",
         "219.00",
         "196.00",
         "168.00",
         "1.00",
         "1148.00",
         "5",
         null,
         null,
         null,
         null,
         null,
         null,
         null,
         null,
         "0",
         null,
         null,
         null,
         null,
         null,
         null,
         null,
         null,
         null,
         null,
         null,
         null,
         null,
         null,
         null,
         null,
         null,
         null,
         null,
         null,
         null,
         null,
         null,
         null,
         null,
         null,
         null,
         null,
         null,
         null,
         null,
         null,
         null,
         null,
         null,
         null,
         null,
         null,
         null,
         null,
         null,
         null,
         null,
         null,
         null
        ],
        [
         "2",
         "2024",
         "1",
         "1",
         "10",
         "3",
         "2024-01-10",
         "9E",
         "20363",
         "9E",
         "N918XJ",
         "4801",
         "12953",
         "1295304",
         "31703",
         "LGA",
         "New York, NY",
         "NY",
         "36",
         "New York",
         "22",
         "13871",
         "1387102",
         "33316",
         "OMA",
         "Omaha, NE",
         "NE",
         "31",
         "Nebraska",
         "65",
         "0856",
         "0850",
         "-6.00",
         "0.00",
         "0.00",
         "-1",
         "0800-0859",
         "17.00",
         "0907",
         "1104",
         "6.00",
         "1135",
         "1110",
         "-25.00",
         "0.00",
         "0.00",
         "-2",
         "1100-1159",
         "0.00",
         null,
         "0.00",
         "219.00",
         "200.00",
         "177.00",
         "1.00",
         "1148.00",
         "5",
         null,
         null,
         null,
         null,
         null,
         null,
         null,
         null,
         "0",
         null,
         null,
         null,
         null,
         null,
         null,
         null,
         null,
         null,
         null,
         null,
         null,
         null,
         null,
         null,
         null,
         null,
         null,
         null,
         null,
         null,
         null,
         null,
         null,
         null,
         null,
         null,
         null,
         null,
         null,
         null,
         null,
         null,
         null,
         null,
         null,
         null,
         null,
         null,
         null,
         null,
         null,
         null,
         null,
         null
        ]
       ],
       "shape": {
        "columns": 110,
        "rows": 3
       }
      },
      "text/html": [
       "<div>\n",
       "<style scoped>\n",
       "    .dataframe tbody tr th:only-of-type {\n",
       "        vertical-align: middle;\n",
       "    }\n",
       "\n",
       "    .dataframe tbody tr th {\n",
       "        vertical-align: top;\n",
       "    }\n",
       "\n",
       "    .dataframe thead th {\n",
       "        text-align: right;\n",
       "    }\n",
       "</style>\n",
       "<table border=\"1\" class=\"dataframe\">\n",
       "  <thead>\n",
       "    <tr style=\"text-align: right;\">\n",
       "      <th></th>\n",
       "      <th>year</th>\n",
       "      <th>quarter</th>\n",
       "      <th>month</th>\n",
       "      <th>dayofmonth</th>\n",
       "      <th>dayofweek</th>\n",
       "      <th>flightdate</th>\n",
       "      <th>reporting_airline</th>\n",
       "      <th>dot_id_reporting_airline</th>\n",
       "      <th>iata_code_reporting_airline</th>\n",
       "      <th>tail_number</th>\n",
       "      <th>flight_number_reporting_airline</th>\n",
       "      <th>originairportid</th>\n",
       "      <th>originairportseqid</th>\n",
       "      <th>origincitymarketid</th>\n",
       "      <th>origin</th>\n",
       "      <th>origincityname</th>\n",
       "      <th>originstate</th>\n",
       "      <th>originstatefips</th>\n",
       "      <th>originstatename</th>\n",
       "      <th>originwac</th>\n",
       "      <th>destairportid</th>\n",
       "      <th>destairportseqid</th>\n",
       "      <th>destcitymarketid</th>\n",
       "      <th>dest</th>\n",
       "      <th>destcityname</th>\n",
       "      <th>deststate</th>\n",
       "      <th>deststatefips</th>\n",
       "      <th>deststatename</th>\n",
       "      <th>destwac</th>\n",
       "      <th>crsdeptime</th>\n",
       "      <th>deptime</th>\n",
       "      <th>depdelay</th>\n",
       "      <th>depdelayminutes</th>\n",
       "      <th>depdel15</th>\n",
       "      <th>departuredelaygroups</th>\n",
       "      <th>deptimeblk</th>\n",
       "      <th>taxiout</th>\n",
       "      <th>wheelsoff</th>\n",
       "      <th>wheelson</th>\n",
       "      <th>taxiin</th>\n",
       "      <th>crsarrtime</th>\n",
       "      <th>arrtime</th>\n",
       "      <th>arrdelay</th>\n",
       "      <th>arrdelayminutes</th>\n",
       "      <th>arrdel15</th>\n",
       "      <th>arrivaldelaygroups</th>\n",
       "      <th>arrtimeblk</th>\n",
       "      <th>cancelled</th>\n",
       "      <th>cancellationcode</th>\n",
       "      <th>diverted</th>\n",
       "      <th>crselapsedtime</th>\n",
       "      <th>actualelapsedtime</th>\n",
       "      <th>airtime</th>\n",
       "      <th>flights</th>\n",
       "      <th>distance</th>\n",
       "      <th>distancegroup</th>\n",
       "      <th>carrierdelay</th>\n",
       "      <th>weatherdelay</th>\n",
       "      <th>nasdelay</th>\n",
       "      <th>securitydelay</th>\n",
       "      <th>lateaircraftdelay</th>\n",
       "      <th>firstdeptime</th>\n",
       "      <th>totaladdgtime</th>\n",
       "      <th>longestaddgtime</th>\n",
       "      <th>divairportlandings</th>\n",
       "      <th>divreacheddest</th>\n",
       "      <th>divactualelapsedtime</th>\n",
       "      <th>divarrdelay</th>\n",
       "      <th>divdistance</th>\n",
       "      <th>div1airport</th>\n",
       "      <th>div1airportid</th>\n",
       "      <th>div1airportseqid</th>\n",
       "      <th>div1wheelson</th>\n",
       "      <th>div1totalgtime</th>\n",
       "      <th>div1longestgtime</th>\n",
       "      <th>div1wheelsoff</th>\n",
       "      <th>div1tailnum</th>\n",
       "      <th>div2airport</th>\n",
       "      <th>div2airportid</th>\n",
       "      <th>div2airportseqid</th>\n",
       "      <th>div2wheelson</th>\n",
       "      <th>div2totalgtime</th>\n",
       "      <th>div2longestgtime</th>\n",
       "      <th>div2wheelsoff</th>\n",
       "      <th>div2tailnum</th>\n",
       "      <th>div3airport</th>\n",
       "      <th>div3airportid</th>\n",
       "      <th>div3airportseqid</th>\n",
       "      <th>div3wheelson</th>\n",
       "      <th>div3totalgtime</th>\n",
       "      <th>div3longestgtime</th>\n",
       "      <th>div3wheelsoff</th>\n",
       "      <th>div3tailnum</th>\n",
       "      <th>div4airport</th>\n",
       "      <th>div4airportid</th>\n",
       "      <th>div4airportseqid</th>\n",
       "      <th>div4wheelson</th>\n",
       "      <th>div4totalgtime</th>\n",
       "      <th>div4longestgtime</th>\n",
       "      <th>div4wheelsoff</th>\n",
       "      <th>div4tailnum</th>\n",
       "      <th>div5airport</th>\n",
       "      <th>div5airportid</th>\n",
       "      <th>div5airportseqid</th>\n",
       "      <th>div5wheelson</th>\n",
       "      <th>div5totalgtime</th>\n",
       "      <th>div5longestgtime</th>\n",
       "      <th>div5wheelsoff</th>\n",
       "      <th>div5tailnum</th>\n",
       "      <th>unnamed:_109</th>\n",
       "    </tr>\n",
       "  </thead>\n",
       "  <tbody>\n",
       "    <tr>\n",
       "      <th>0</th>\n",
       "      <td>2024</td>\n",
       "      <td>1</td>\n",
       "      <td>1</td>\n",
       "      <td>8</td>\n",
       "      <td>1</td>\n",
       "      <td>2024-01-08</td>\n",
       "      <td>9E</td>\n",
       "      <td>20363</td>\n",
       "      <td>9E</td>\n",
       "      <td>N485PX</td>\n",
       "      <td>4801</td>\n",
       "      <td>12953</td>\n",
       "      <td>1295304</td>\n",
       "      <td>31703</td>\n",
       "      <td>LGA</td>\n",
       "      <td>New York, NY</td>\n",
       "      <td>NY</td>\n",
       "      <td>36</td>\n",
       "      <td>New York</td>\n",
       "      <td>22</td>\n",
       "      <td>13871</td>\n",
       "      <td>1387102</td>\n",
       "      <td>33316</td>\n",
       "      <td>OMA</td>\n",
       "      <td>Omaha, NE</td>\n",
       "      <td>NE</td>\n",
       "      <td>31</td>\n",
       "      <td>Nebraska</td>\n",
       "      <td>65</td>\n",
       "      <td>0856</td>\n",
       "      <td>0851</td>\n",
       "      <td>-5.00</td>\n",
       "      <td>0.00</td>\n",
       "      <td>0.00</td>\n",
       "      <td>-1</td>\n",
       "      <td>0800-0859</td>\n",
       "      <td>25.00</td>\n",
       "      <td>0916</td>\n",
       "      <td>1120</td>\n",
       "      <td>4.00</td>\n",
       "      <td>1135</td>\n",
       "      <td>1124</td>\n",
       "      <td>-11.00</td>\n",
       "      <td>0.00</td>\n",
       "      <td>0.00</td>\n",
       "      <td>-1</td>\n",
       "      <td>1100-1159</td>\n",
       "      <td>0.00</td>\n",
       "      <td>NaN</td>\n",
       "      <td>0.00</td>\n",
       "      <td>219.00</td>\n",
       "      <td>213.00</td>\n",
       "      <td>184.00</td>\n",
       "      <td>1.00</td>\n",
       "      <td>1148.00</td>\n",
       "      <td>5</td>\n",
       "      <td>NaN</td>\n",
       "      <td>NaN</td>\n",
       "      <td>NaN</td>\n",
       "      <td>NaN</td>\n",
       "      <td>NaN</td>\n",
       "      <td>NaN</td>\n",
       "      <td>NaN</td>\n",
       "      <td>NaN</td>\n",
       "      <td>0</td>\n",
       "      <td>NaN</td>\n",
       "      <td>NaN</td>\n",
       "      <td>NaN</td>\n",
       "      <td>NaN</td>\n",
       "      <td>NaN</td>\n",
       "      <td>NaN</td>\n",
       "      <td>NaN</td>\n",
       "      <td>NaN</td>\n",
       "      <td>NaN</td>\n",
       "      <td>NaN</td>\n",
       "      <td>NaN</td>\n",
       "      <td>NaN</td>\n",
       "      <td>NaN</td>\n",
       "      <td>NaN</td>\n",
       "      <td>NaN</td>\n",
       "      <td>NaN</td>\n",
       "      <td>NaN</td>\n",
       "      <td>NaN</td>\n",
       "      <td>NaN</td>\n",
       "      <td>NaN</td>\n",
       "      <td>NaN</td>\n",
       "      <td>NaN</td>\n",
       "      <td>NaN</td>\n",
       "      <td>NaN</td>\n",
       "      <td>NaN</td>\n",
       "      <td>NaN</td>\n",
       "      <td>NaN</td>\n",
       "      <td>NaN</td>\n",
       "      <td>NaN</td>\n",
       "      <td>NaN</td>\n",
       "      <td>NaN</td>\n",
       "      <td>NaN</td>\n",
       "      <td>NaN</td>\n",
       "      <td>NaN</td>\n",
       "      <td>NaN</td>\n",
       "      <td>NaN</td>\n",
       "      <td>NaN</td>\n",
       "      <td>NaN</td>\n",
       "      <td>NaN</td>\n",
       "      <td>NaN</td>\n",
       "      <td>NaN</td>\n",
       "      <td>NaN</td>\n",
       "      <td>NaN</td>\n",
       "      <td>NaN</td>\n",
       "      <td>NaN</td>\n",
       "    </tr>\n",
       "    <tr>\n",
       "      <th>1</th>\n",
       "      <td>2024</td>\n",
       "      <td>1</td>\n",
       "      <td>1</td>\n",
       "      <td>9</td>\n",
       "      <td>2</td>\n",
       "      <td>2024-01-09</td>\n",
       "      <td>9E</td>\n",
       "      <td>20363</td>\n",
       "      <td>9E</td>\n",
       "      <td>N912XJ</td>\n",
       "      <td>4801</td>\n",
       "      <td>12953</td>\n",
       "      <td>1295304</td>\n",
       "      <td>31703</td>\n",
       "      <td>LGA</td>\n",
       "      <td>New York, NY</td>\n",
       "      <td>NY</td>\n",
       "      <td>36</td>\n",
       "      <td>New York</td>\n",
       "      <td>22</td>\n",
       "      <td>13871</td>\n",
       "      <td>1387102</td>\n",
       "      <td>33316</td>\n",
       "      <td>OMA</td>\n",
       "      <td>Omaha, NE</td>\n",
       "      <td>NE</td>\n",
       "      <td>31</td>\n",
       "      <td>Nebraska</td>\n",
       "      <td>65</td>\n",
       "      <td>0856</td>\n",
       "      <td>0851</td>\n",
       "      <td>-5.00</td>\n",
       "      <td>0.00</td>\n",
       "      <td>0.00</td>\n",
       "      <td>-1</td>\n",
       "      <td>0800-0859</td>\n",
       "      <td>16.00</td>\n",
       "      <td>0907</td>\n",
       "      <td>1055</td>\n",
       "      <td>12.00</td>\n",
       "      <td>1135</td>\n",
       "      <td>1107</td>\n",
       "      <td>-28.00</td>\n",
       "      <td>0.00</td>\n",
       "      <td>0.00</td>\n",
       "      <td>-2</td>\n",
       "      <td>1100-1159</td>\n",
       "      <td>0.00</td>\n",
       "      <td>NaN</td>\n",
       "      <td>0.00</td>\n",
       "      <td>219.00</td>\n",
       "      <td>196.00</td>\n",
       "      <td>168.00</td>\n",
       "      <td>1.00</td>\n",
       "      <td>1148.00</td>\n",
       "      <td>5</td>\n",
       "      <td>NaN</td>\n",
       "      <td>NaN</td>\n",
       "      <td>NaN</td>\n",
       "      <td>NaN</td>\n",
       "      <td>NaN</td>\n",
       "      <td>NaN</td>\n",
       "      <td>NaN</td>\n",
       "      <td>NaN</td>\n",
       "      <td>0</td>\n",
       "      <td>NaN</td>\n",
       "      <td>NaN</td>\n",
       "      <td>NaN</td>\n",
       "      <td>NaN</td>\n",
       "      <td>NaN</td>\n",
       "      <td>NaN</td>\n",
       "      <td>NaN</td>\n",
       "      <td>NaN</td>\n",
       "      <td>NaN</td>\n",
       "      <td>NaN</td>\n",
       "      <td>NaN</td>\n",
       "      <td>NaN</td>\n",
       "      <td>NaN</td>\n",
       "      <td>NaN</td>\n",
       "      <td>NaN</td>\n",
       "      <td>NaN</td>\n",
       "      <td>NaN</td>\n",
       "      <td>NaN</td>\n",
       "      <td>NaN</td>\n",
       "      <td>NaN</td>\n",
       "      <td>NaN</td>\n",
       "      <td>NaN</td>\n",
       "      <td>NaN</td>\n",
       "      <td>NaN</td>\n",
       "      <td>NaN</td>\n",
       "      <td>NaN</td>\n",
       "      <td>NaN</td>\n",
       "      <td>NaN</td>\n",
       "      <td>NaN</td>\n",
       "      <td>NaN</td>\n",
       "      <td>NaN</td>\n",
       "      <td>NaN</td>\n",
       "      <td>NaN</td>\n",
       "      <td>NaN</td>\n",
       "      <td>NaN</td>\n",
       "      <td>NaN</td>\n",
       "      <td>NaN</td>\n",
       "      <td>NaN</td>\n",
       "      <td>NaN</td>\n",
       "      <td>NaN</td>\n",
       "      <td>NaN</td>\n",
       "      <td>NaN</td>\n",
       "      <td>NaN</td>\n",
       "      <td>NaN</td>\n",
       "      <td>NaN</td>\n",
       "    </tr>\n",
       "    <tr>\n",
       "      <th>2</th>\n",
       "      <td>2024</td>\n",
       "      <td>1</td>\n",
       "      <td>1</td>\n",
       "      <td>10</td>\n",
       "      <td>3</td>\n",
       "      <td>2024-01-10</td>\n",
       "      <td>9E</td>\n",
       "      <td>20363</td>\n",
       "      <td>9E</td>\n",
       "      <td>N918XJ</td>\n",
       "      <td>4801</td>\n",
       "      <td>12953</td>\n",
       "      <td>1295304</td>\n",
       "      <td>31703</td>\n",
       "      <td>LGA</td>\n",
       "      <td>New York, NY</td>\n",
       "      <td>NY</td>\n",
       "      <td>36</td>\n",
       "      <td>New York</td>\n",
       "      <td>22</td>\n",
       "      <td>13871</td>\n",
       "      <td>1387102</td>\n",
       "      <td>33316</td>\n",
       "      <td>OMA</td>\n",
       "      <td>Omaha, NE</td>\n",
       "      <td>NE</td>\n",
       "      <td>31</td>\n",
       "      <td>Nebraska</td>\n",
       "      <td>65</td>\n",
       "      <td>0856</td>\n",
       "      <td>0850</td>\n",
       "      <td>-6.00</td>\n",
       "      <td>0.00</td>\n",
       "      <td>0.00</td>\n",
       "      <td>-1</td>\n",
       "      <td>0800-0859</td>\n",
       "      <td>17.00</td>\n",
       "      <td>0907</td>\n",
       "      <td>1104</td>\n",
       "      <td>6.00</td>\n",
       "      <td>1135</td>\n",
       "      <td>1110</td>\n",
       "      <td>-25.00</td>\n",
       "      <td>0.00</td>\n",
       "      <td>0.00</td>\n",
       "      <td>-2</td>\n",
       "      <td>1100-1159</td>\n",
       "      <td>0.00</td>\n",
       "      <td>NaN</td>\n",
       "      <td>0.00</td>\n",
       "      <td>219.00</td>\n",
       "      <td>200.00</td>\n",
       "      <td>177.00</td>\n",
       "      <td>1.00</td>\n",
       "      <td>1148.00</td>\n",
       "      <td>5</td>\n",
       "      <td>NaN</td>\n",
       "      <td>NaN</td>\n",
       "      <td>NaN</td>\n",
       "      <td>NaN</td>\n",
       "      <td>NaN</td>\n",
       "      <td>NaN</td>\n",
       "      <td>NaN</td>\n",
       "      <td>NaN</td>\n",
       "      <td>0</td>\n",
       "      <td>NaN</td>\n",
       "      <td>NaN</td>\n",
       "      <td>NaN</td>\n",
       "      <td>NaN</td>\n",
       "      <td>NaN</td>\n",
       "      <td>NaN</td>\n",
       "      <td>NaN</td>\n",
       "      <td>NaN</td>\n",
       "      <td>NaN</td>\n",
       "      <td>NaN</td>\n",
       "      <td>NaN</td>\n",
       "      <td>NaN</td>\n",
       "      <td>NaN</td>\n",
       "      <td>NaN</td>\n",
       "      <td>NaN</td>\n",
       "      <td>NaN</td>\n",
       "      <td>NaN</td>\n",
       "      <td>NaN</td>\n",
       "      <td>NaN</td>\n",
       "      <td>NaN</td>\n",
       "      <td>NaN</td>\n",
       "      <td>NaN</td>\n",
       "      <td>NaN</td>\n",
       "      <td>NaN</td>\n",
       "      <td>NaN</td>\n",
       "      <td>NaN</td>\n",
       "      <td>NaN</td>\n",
       "      <td>NaN</td>\n",
       "      <td>NaN</td>\n",
       "      <td>NaN</td>\n",
       "      <td>NaN</td>\n",
       "      <td>NaN</td>\n",
       "      <td>NaN</td>\n",
       "      <td>NaN</td>\n",
       "      <td>NaN</td>\n",
       "      <td>NaN</td>\n",
       "      <td>NaN</td>\n",
       "      <td>NaN</td>\n",
       "      <td>NaN</td>\n",
       "      <td>NaN</td>\n",
       "      <td>NaN</td>\n",
       "      <td>NaN</td>\n",
       "      <td>NaN</td>\n",
       "      <td>NaN</td>\n",
       "      <td>NaN</td>\n",
       "    </tr>\n",
       "  </tbody>\n",
       "</table>\n",
       "</div>"
      ],
      "text/plain": [
       "   year quarter month dayofmonth dayofweek  flightdate reporting_airline dot_id_reporting_airline iata_code_reporting_airline tail_number  \\\n",
       "0  2024       1     1          8         1  2024-01-08                9E                    20363                          9E      N485PX   \n",
       "1  2024       1     1          9         2  2024-01-09                9E                    20363                          9E      N912XJ   \n",
       "2  2024       1     1         10         3  2024-01-10                9E                    20363                          9E      N918XJ   \n",
       "\n",
       "  flight_number_reporting_airline originairportid originairportseqid origincitymarketid origin origincityname originstate originstatefips originstatename  \\\n",
       "0                            4801           12953            1295304              31703    LGA   New York, NY          NY              36        New York   \n",
       "1                            4801           12953            1295304              31703    LGA   New York, NY          NY              36        New York   \n",
       "2                            4801           12953            1295304              31703    LGA   New York, NY          NY              36        New York   \n",
       "\n",
       "  originwac destairportid destairportseqid destcitymarketid dest destcityname deststate deststatefips deststatename destwac crsdeptime deptime depdelay  \\\n",
       "0        22         13871          1387102            33316  OMA    Omaha, NE        NE            31      Nebraska      65       0856    0851    -5.00   \n",
       "1        22         13871          1387102            33316  OMA    Omaha, NE        NE            31      Nebraska      65       0856    0851    -5.00   \n",
       "2        22         13871          1387102            33316  OMA    Omaha, NE        NE            31      Nebraska      65       0856    0850    -6.00   \n",
       "\n",
       "  depdelayminutes depdel15 departuredelaygroups deptimeblk taxiout wheelsoff wheelson taxiin crsarrtime arrtime arrdelay arrdelayminutes arrdel15  \\\n",
       "0            0.00     0.00                   -1  0800-0859   25.00      0916     1120   4.00       1135    1124   -11.00            0.00     0.00   \n",
       "1            0.00     0.00                   -1  0800-0859   16.00      0907     1055  12.00       1135    1107   -28.00            0.00     0.00   \n",
       "2            0.00     0.00                   -1  0800-0859   17.00      0907     1104   6.00       1135    1110   -25.00            0.00     0.00   \n",
       "\n",
       "  arrivaldelaygroups arrtimeblk cancelled cancellationcode diverted crselapsedtime actualelapsedtime airtime flights distance distancegroup carrierdelay  \\\n",
       "0                 -1  1100-1159      0.00              NaN     0.00         219.00            213.00  184.00    1.00  1148.00             5          NaN   \n",
       "1                 -2  1100-1159      0.00              NaN     0.00         219.00            196.00  168.00    1.00  1148.00             5          NaN   \n",
       "2                 -2  1100-1159      0.00              NaN     0.00         219.00            200.00  177.00    1.00  1148.00             5          NaN   \n",
       "\n",
       "  weatherdelay nasdelay securitydelay lateaircraftdelay firstdeptime totaladdgtime longestaddgtime divairportlandings divreacheddest divactualelapsedtime  \\\n",
       "0          NaN      NaN           NaN               NaN          NaN           NaN             NaN                  0            NaN                  NaN   \n",
       "1          NaN      NaN           NaN               NaN          NaN           NaN             NaN                  0            NaN                  NaN   \n",
       "2          NaN      NaN           NaN               NaN          NaN           NaN             NaN                  0            NaN                  NaN   \n",
       "\n",
       "  divarrdelay divdistance div1airport div1airportid div1airportseqid div1wheelson div1totalgtime div1longestgtime div1wheelsoff div1tailnum div2airport  \\\n",
       "0         NaN         NaN         NaN           NaN              NaN          NaN            NaN              NaN           NaN         NaN         NaN   \n",
       "1         NaN         NaN         NaN           NaN              NaN          NaN            NaN              NaN           NaN         NaN         NaN   \n",
       "2         NaN         NaN         NaN           NaN              NaN          NaN            NaN              NaN           NaN         NaN         NaN   \n",
       "\n",
       "  div2airportid div2airportseqid div2wheelson div2totalgtime div2longestgtime div2wheelsoff div2tailnum div3airport div3airportid div3airportseqid  \\\n",
       "0           NaN              NaN          NaN            NaN              NaN           NaN         NaN         NaN           NaN              NaN   \n",
       "1           NaN              NaN          NaN            NaN              NaN           NaN         NaN         NaN           NaN              NaN   \n",
       "2           NaN              NaN          NaN            NaN              NaN           NaN         NaN         NaN           NaN              NaN   \n",
       "\n",
       "  div3wheelson div3totalgtime div3longestgtime div3wheelsoff div3tailnum div4airport div4airportid div4airportseqid div4wheelson div4totalgtime  \\\n",
       "0          NaN            NaN              NaN           NaN         NaN         NaN           NaN              NaN          NaN            NaN   \n",
       "1          NaN            NaN              NaN           NaN         NaN         NaN           NaN              NaN          NaN            NaN   \n",
       "2          NaN            NaN              NaN           NaN         NaN         NaN           NaN              NaN          NaN            NaN   \n",
       "\n",
       "  div4longestgtime div4wheelsoff div4tailnum div5airport div5airportid div5airportseqid div5wheelson div5totalgtime div5longestgtime div5wheelsoff  \\\n",
       "0              NaN           NaN         NaN         NaN           NaN              NaN          NaN            NaN              NaN           NaN   \n",
       "1              NaN           NaN         NaN         NaN           NaN              NaN          NaN            NaN              NaN           NaN   \n",
       "2              NaN           NaN         NaN         NaN           NaN              NaN          NaN            NaN              NaN           NaN   \n",
       "\n",
       "  div5tailnum unnamed:_109  \n",
       "0         NaN          NaN  \n",
       "1         NaN          NaN  \n",
       "2         NaN          NaN  "
      ]
     },
     "metadata": {},
     "output_type": "display_data"
    }
   ],
   "source": [
    "def drop_critical_nulls(df: pd.DataFrame) -> pd.DataFrame:\n",
    "    df = df.copy()\n",
    "    for c in CRITICAL_FIELDS:\n",
    "        if c in df.columns:\n",
    "            df[c] = df[c].replace('', np.nan)\n",
    "            df = df[df[c].notna()]\n",
    "    return df\n",
    "\n",
    "before = len(df)\n",
    "df = drop_critical_nulls(df)\n",
    "after = len(df)\n",
    "print('Dropped rows (critical nulls):', before - after, 'Remaining:', after)\n",
    "preview(df.head(3))"
   ]
  },
  {
   "cell_type": "markdown",
   "id": "5a48db3e",
   "metadata": {},
   "source": [
    "## DE2: Drop Sparse Columns (>= 80% Nulls)\n",
    "Prune legacy/unused fields. Threshold configurable via `SPARSE_NULL_THRESHOLD`."
   ]
  },
  {
   "cell_type": "code",
   "execution_count": 25,
   "id": "a756ebd8",
   "metadata": {},
   "outputs": [
    {
     "name": "stdout",
     "output_type": "stream",
     "text": [
      "Dropping 49 sparse columns (>= 80% nulls)\n"
     ]
    },
    {
     "data": {
      "application/vnd.microsoft.datawrangler.viewer.v0+json": {
       "columns": [
        {
         "name": "index",
         "rawType": "int64",
         "type": "integer"
        },
        {
         "name": "0",
         "rawType": "object",
         "type": "string"
        }
       ],
       "ref": "3758091f-43d0-4aeb-a9db-ea0cca86d53d",
       "rows": [
        [
         "0",
         "year"
        ],
        [
         "1",
         "quarter"
        ],
        [
         "2",
         "month"
        ]
       ],
       "shape": {
        "columns": 1,
        "rows": 3
       }
      },
      "text/plain": [
       "0       year\n",
       "1    quarter\n",
       "2      month\n",
       "dtype: object"
      ]
     },
     "metadata": {},
     "output_type": "display_data"
    }
   ],
   "source": [
    "def drop_sparse_columns(df: pd.DataFrame, threshold: float) -> pd.DataFrame:\n",
    "    frac = df.isna().mean()\n",
    "    to_drop = frac[frac >= threshold].index.tolist()\n",
    "    print(f'Dropping {len(to_drop)} sparse columns (>= {threshold:.0%} nulls)')\n",
    "    return df.drop(columns=to_drop)\n",
    "\n",
    "df = drop_sparse_columns(df, SPARSE_NULL_THRESHOLD)\n",
    "preview(pd.Series(df.columns[:12]))"
   ]
  },
  {
   "cell_type": "markdown",
   "id": "a477319a",
   "metadata": {},
   "source": [
    "## DE3: Dtype Casting per Dictionary/Best Guess\n",
    "Set canonical types for key fields; parse dates and numeric fields."
   ]
  },
  {
   "cell_type": "code",
   "execution_count": 26,
   "id": "763c38ea",
   "metadata": {},
   "outputs": [
    {
     "data": {
      "application/vnd.microsoft.datawrangler.viewer.v0+json": {
       "columns": [
        {
         "name": "index",
         "rawType": "int64",
         "type": "integer"
        },
        {
         "name": "flightdate",
         "rawType": "datetime64[ns]",
         "type": "datetime"
        },
        {
         "name": "month",
         "rawType": "Int64",
         "type": "integer"
        },
        {
         "name": "origin",
         "rawType": "string",
         "type": "string"
        },
        {
         "name": "dest",
         "rawType": "string",
         "type": "string"
        },
        {
         "name": "depdelayminutes",
         "rawType": "float64",
         "type": "float"
        },
        {
         "name": "depdel15",
         "rawType": "object",
         "type": "string"
        }
       ],
       "ref": "61102268-35e2-41a7-86bc-cb5892b1d3ee",
       "rows": [
        [
         "0",
         "2024-01-08 00:00:00",
         "1",
         "LGA",
         "OMA",
         "0.0",
         "0.00"
        ],
        [
         "1",
         "2024-01-09 00:00:00",
         "1",
         "LGA",
         "OMA",
         "0.0",
         "0.00"
        ],
        [
         "2",
         "2024-01-10 00:00:00",
         "1",
         "LGA",
         "OMA",
         "0.0",
         "0.00"
        ]
       ],
       "shape": {
        "columns": 6,
        "rows": 3
       }
      },
      "text/html": [
       "<div>\n",
       "<style scoped>\n",
       "    .dataframe tbody tr th:only-of-type {\n",
       "        vertical-align: middle;\n",
       "    }\n",
       "\n",
       "    .dataframe tbody tr th {\n",
       "        vertical-align: top;\n",
       "    }\n",
       "\n",
       "    .dataframe thead th {\n",
       "        text-align: right;\n",
       "    }\n",
       "</style>\n",
       "<table border=\"1\" class=\"dataframe\">\n",
       "  <thead>\n",
       "    <tr style=\"text-align: right;\">\n",
       "      <th></th>\n",
       "      <th>flightdate</th>\n",
       "      <th>month</th>\n",
       "      <th>origin</th>\n",
       "      <th>dest</th>\n",
       "      <th>depdelayminutes</th>\n",
       "      <th>depdel15</th>\n",
       "    </tr>\n",
       "  </thead>\n",
       "  <tbody>\n",
       "    <tr>\n",
       "      <th>0</th>\n",
       "      <td>2024-01-08</td>\n",
       "      <td>1</td>\n",
       "      <td>LGA</td>\n",
       "      <td>OMA</td>\n",
       "      <td>0.0</td>\n",
       "      <td>0.00</td>\n",
       "    </tr>\n",
       "    <tr>\n",
       "      <th>1</th>\n",
       "      <td>2024-01-09</td>\n",
       "      <td>1</td>\n",
       "      <td>LGA</td>\n",
       "      <td>OMA</td>\n",
       "      <td>0.0</td>\n",
       "      <td>0.00</td>\n",
       "    </tr>\n",
       "    <tr>\n",
       "      <th>2</th>\n",
       "      <td>2024-01-10</td>\n",
       "      <td>1</td>\n",
       "      <td>LGA</td>\n",
       "      <td>OMA</td>\n",
       "      <td>0.0</td>\n",
       "      <td>0.00</td>\n",
       "    </tr>\n",
       "  </tbody>\n",
       "</table>\n",
       "</div>"
      ],
      "text/plain": [
       "  flightdate  month origin dest  depdelayminutes depdel15\n",
       "0 2024-01-08      1    LGA  OMA              0.0     0.00\n",
       "1 2024-01-09      1    LGA  OMA              0.0     0.00\n",
       "2 2024-01-10      1    LGA  OMA              0.0     0.00"
      ]
     },
     "metadata": {},
     "output_type": "display_data"
    }
   ],
   "source": [
    "def to_int(series):\n",
    "    return pd.to_numeric(series, errors='coerce').astype('Int64')\n",
    "\n",
    "def to_float(series):\n",
    "    return pd.to_numeric(series, errors='coerce').astype(float)\n",
    "\n",
    "# Parse date\n",
    "if 'flightdate' in df.columns:\n",
    "    df['flightdate'] = pd.to_datetime(df['flightdate'], errors='coerce')\n",
    "\n",
    "# Numeric casts for key fields\n",
    "for c in ['year','quarter','month','dayofmonth','dayofweek','originairportid','destairportid','dot_id_reporting_airline']:\n",
    "    if c in df.columns:\n",
    "        df[c] = to_int(df[c])\n",
    "\n",
    "for c in ['depdelay','depdelayminutes','arrdelay','arrdelayminutes','taxiout','taxiin','airtime','distance']:\n",
    "    if c in df.columns:\n",
    "        df[c] = to_float(df[c])\n",
    "\n",
    "# Keep string/object for codes\n",
    "for c in ['origin','dest','iata_code_reporting_airline','reporting_airline','tail_number']:\n",
    "    if c in df.columns:\n",
    "        df[c] = df[c].astype('string')\n",
    "\n",
    "preview(df[['flightdate','month','origin','dest','depdelayminutes','depdel15']].head(3))"
   ]
  },
  {
   "cell_type": "markdown",
   "id": "e761870e",
   "metadata": {},
   "source": [
    "## FE1: Day-Part (Scheduled and Actual) with Midnight Rollover\n",
    "Create `daypart_sched` from `crsdeptime` and `daypart_actual` from `deptime` with rollover handling."
   ]
  },
  {
   "cell_type": "code",
   "execution_count": 27,
   "id": "5ad1ae9e",
   "metadata": {},
   "outputs": [
    {
     "data": {
      "application/vnd.microsoft.datawrangler.viewer.v0+json": {
       "columns": [
        {
         "name": "index",
         "rawType": "int64",
         "type": "integer"
        },
        {
         "name": "flightdate",
         "rawType": "datetime64[ns]",
         "type": "datetime"
        },
        {
         "name": "crsdeptime",
         "rawType": "object",
         "type": "string"
        },
        {
         "name": "deptime",
         "rawType": "object",
         "type": "string"
        },
        {
         "name": "deptimehour",
         "rawType": "Int8",
         "type": "integer"
        },
        {
         "name": "daypart_sched",
         "rawType": "category",
         "type": "unknown"
        },
        {
         "name": "daypart_actual",
         "rawType": "category",
         "type": "unknown"
        }
       ],
       "ref": "581cf846-0462-4172-a43e-960120e5cabc",
       "rows": [
        [
         "0",
         "2024-01-08 00:00:00",
         "0856",
         "0851",
         "8",
         "morning",
         "morning"
        ],
        [
         "1",
         "2024-01-09 00:00:00",
         "0856",
         "0851",
         "8",
         "morning",
         "morning"
        ],
        [
         "2",
         "2024-01-10 00:00:00",
         "0856",
         "0850",
         "8",
         "morning",
         "morning"
        ]
       ],
       "shape": {
        "columns": 6,
        "rows": 3
       }
      },
      "text/html": [
       "<div>\n",
       "<style scoped>\n",
       "    .dataframe tbody tr th:only-of-type {\n",
       "        vertical-align: middle;\n",
       "    }\n",
       "\n",
       "    .dataframe tbody tr th {\n",
       "        vertical-align: top;\n",
       "    }\n",
       "\n",
       "    .dataframe thead th {\n",
       "        text-align: right;\n",
       "    }\n",
       "</style>\n",
       "<table border=\"1\" class=\"dataframe\">\n",
       "  <thead>\n",
       "    <tr style=\"text-align: right;\">\n",
       "      <th></th>\n",
       "      <th>flightdate</th>\n",
       "      <th>crsdeptime</th>\n",
       "      <th>deptime</th>\n",
       "      <th>deptimehour</th>\n",
       "      <th>daypart_sched</th>\n",
       "      <th>daypart_actual</th>\n",
       "    </tr>\n",
       "  </thead>\n",
       "  <tbody>\n",
       "    <tr>\n",
       "      <th>0</th>\n",
       "      <td>2024-01-08</td>\n",
       "      <td>0856</td>\n",
       "      <td>0851</td>\n",
       "      <td>8</td>\n",
       "      <td>morning</td>\n",
       "      <td>morning</td>\n",
       "    </tr>\n",
       "    <tr>\n",
       "      <th>1</th>\n",
       "      <td>2024-01-09</td>\n",
       "      <td>0856</td>\n",
       "      <td>0851</td>\n",
       "      <td>8</td>\n",
       "      <td>morning</td>\n",
       "      <td>morning</td>\n",
       "    </tr>\n",
       "    <tr>\n",
       "      <th>2</th>\n",
       "      <td>2024-01-10</td>\n",
       "      <td>0856</td>\n",
       "      <td>0850</td>\n",
       "      <td>8</td>\n",
       "      <td>morning</td>\n",
       "      <td>morning</td>\n",
       "    </tr>\n",
       "  </tbody>\n",
       "</table>\n",
       "</div>"
      ],
      "text/plain": [
       "  flightdate crsdeptime deptime  deptimehour daypart_sched daypart_actual\n",
       "0 2024-01-08       0856    0851            8       morning        morning\n",
       "1 2024-01-09       0856    0851            8       morning        morning\n",
       "2 2024-01-10       0856    0850            8       morning        morning"
      ]
     },
     "metadata": {},
     "output_type": "display_data"
    }
   ],
   "source": [
    "# FE1: Day-Part (Scheduled and Actual) with Midnight Rollover (vectorized)\n",
    "import numpy as np\n",
    "import pandas as pd\n",
    "\n",
    "DAYPART_ORDER = ['night','early_morning','morning','afternoon','late_afternoon','evening']\n",
    "DAYPART_CAT = pd.CategoricalDtype(categories=DAYPART_ORDER, ordered=True)\n",
    "\n",
    "def _extract_hour_min(series: pd.Series):\n",
    "    # Convert to string, strip, and sanitize\n",
    "    s = series.astype('string').str.strip()\n",
    "    s = s.str.split('.', n=1).str[0]  # drop fractional suffixes like '856.00'\n",
    "    s_digits = s.str.replace(r'[^0-9]', '', regex=True)\n",
    "    s_digits = s_digits.where(s_digits.str.len() > 0)\n",
    "    s4 = s_digits.str.zfill(4)\n",
    "\n",
    "    hh = pd.to_numeric(s4.str[:2], errors='coerce')\n",
    "    mm = pd.to_numeric(s4.str[2:], errors='coerce')\n",
    "\n",
    "    # Normalize edge cases: 2400 -> 00:00; clamp to valid ranges\n",
    "    is_2400 = s4 == '2400'\n",
    "    hh = hh.clip(0, 23).mask(is_2400, 0).astype('Int64')\n",
    "    mm = mm.clip(0, 59).mask(is_2400, 0).astype('Int64')\n",
    "    return hh, mm\n",
    "\n",
    "def _to_daypart(hour: pd.Series) -> pd.Series:\n",
    "    h = hour.astype('float64')\n",
    "    buckets = pd.cut(\n",
    "        h,\n",
    "        bins=[-0.1, 3, 7, 11, 15, 19, 23],\n",
    "        labels=DAYPART_ORDER,\n",
    "        include_lowest=True,\n",
    "        right=True,\n",
    "    )\n",
    "    return buckets.astype(DAYPART_CAT)\n",
    "\n",
    "def compute_dayparts_fast(df: pd.DataFrame) -> pd.DataFrame:\n",
    "    out = df.copy()\n",
    "\n",
    "    if 'crsdeptime' in out:\n",
    "        crs_h, _ = _extract_hour_min(out['crsdeptime'])\n",
    "        out['daypart_sched'] = _to_daypart(crs_h)\n",
    "    else:\n",
    "        out['daypart_sched'] = pd.Series(pd.Categorical([np.nan] * len(out), categories=DAYPART_ORDER), index=out.index)\n",
    "\n",
    "    if 'deptime' in out:\n",
    "        dep_h, _ = _extract_hour_min(out['deptime'])\n",
    "        out['deptimehour'] = dep_h.astype('Int8')\n",
    "        out['daypart_actual'] = _to_daypart(dep_h)\n",
    "    else:\n",
    "        out['deptimehour'] = pd.Series([pd.NA] * len(out), dtype='Int8', index=out.index)\n",
    "        out['daypart_actual'] = pd.Series(pd.Categorical([np.nan] * len(out), categories=DAYPART_ORDER), index=out.index)\n",
    "\n",
    "    return out\n",
    "\n",
    "df = compute_dayparts_fast(df)\n",
    "preview(df[['flightdate','crsdeptime','deptime','deptimehour','daypart_sched','daypart_actual']].head(3))"
   ]
  },
  {
   "cell_type": "markdown",
   "id": "fb2bd76c",
   "metadata": {},
   "source": [
    "## FE2: Origin Airport Tiers (Top 20%, Next 50%, Bottom 30%)\n",
    "Group by `origin` across all flights (including cancelled); assign tiers by airport percentiles."
   ]
  },
  {
   "cell_type": "code",
   "execution_count": 28,
   "id": "09357470",
   "metadata": {},
   "outputs": [
    {
     "data": {
      "application/vnd.microsoft.datawrangler.viewer.v0+json": {
       "columns": [
        {
         "name": "index",
         "rawType": "int64",
         "type": "integer"
        },
        {
         "name": "origin",
         "rawType": "string",
         "type": "string"
        },
        {
         "name": "origin_tier",
         "rawType": "object",
         "type": "string"
        }
       ],
       "ref": "4b7ef0fe-96be-4997-8c80-9b6d96bfec29",
       "rows": [
        [
         "0",
         "LGA",
         "Tier 1"
        ],
        [
         "1",
         "LGA",
         "Tier 1"
        ],
        [
         "2",
         "LGA",
         "Tier 1"
        ]
       ],
       "shape": {
        "columns": 2,
        "rows": 3
       }
      },
      "text/html": [
       "<div>\n",
       "<style scoped>\n",
       "    .dataframe tbody tr th:only-of-type {\n",
       "        vertical-align: middle;\n",
       "    }\n",
       "\n",
       "    .dataframe tbody tr th {\n",
       "        vertical-align: top;\n",
       "    }\n",
       "\n",
       "    .dataframe thead th {\n",
       "        text-align: right;\n",
       "    }\n",
       "</style>\n",
       "<table border=\"1\" class=\"dataframe\">\n",
       "  <thead>\n",
       "    <tr style=\"text-align: right;\">\n",
       "      <th></th>\n",
       "      <th>origin</th>\n",
       "      <th>origin_tier</th>\n",
       "    </tr>\n",
       "  </thead>\n",
       "  <tbody>\n",
       "    <tr>\n",
       "      <th>0</th>\n",
       "      <td>LGA</td>\n",
       "      <td>Tier 1</td>\n",
       "    </tr>\n",
       "    <tr>\n",
       "      <th>1</th>\n",
       "      <td>LGA</td>\n",
       "      <td>Tier 1</td>\n",
       "    </tr>\n",
       "    <tr>\n",
       "      <th>2</th>\n",
       "      <td>LGA</td>\n",
       "      <td>Tier 1</td>\n",
       "    </tr>\n",
       "  </tbody>\n",
       "</table>\n",
       "</div>"
      ],
      "text/plain": [
       "  origin origin_tier\n",
       "0    LGA      Tier 1\n",
       "1    LGA      Tier 1\n",
       "2    LGA      Tier 1"
      ]
     },
     "metadata": {},
     "output_type": "display_data"
    }
   ],
   "source": [
    "def assign_origin_tiers(df: pd.DataFrame) -> pd.DataFrame:\n",
    "    df = df.copy()\n",
    "    counts = df.groupby('origin', dropna=False).size().reset_index(name='flights')\n",
    "    counts = counts.sort_values(['flights','origin'], ascending=[False, True]).reset_index(drop=True)\n",
    "    counts['airport_rank'] = np.arange(1, len(counts)+1)\n",
    "    counts['airport_pct'] = counts['airport_rank'] / len(counts)\n",
    "    def tier(p):\n",
    "        if p <= 0.20: return 'Tier 1'\n",
    "        if p <= 0.70: return 'Tier 2'\n",
    "        return 'Tier 3'\n",
    "    counts['origin_tier'] = counts['airport_pct'].apply(tier)\n",
    "    return df.merge(counts[['origin','origin_tier']], on='origin', how='left')\n",
    "\n",
    "df = assign_origin_tiers(df)\n",
    "preview(df[['origin','origin_tier']].head(3))"
   ]
  },
  {
   "cell_type": "markdown",
   "id": "e3eb9edf",
   "metadata": {},
   "source": [
    "## FE3: Late/On-Time Flags\n",
    "Create `is_late_departure` from `depdel15` and `is_on_time_departure = 1 - is_late_departure`."
   ]
  },
  {
   "cell_type": "code",
   "execution_count": 29,
   "id": "29af6623",
   "metadata": {},
   "outputs": [
    {
     "data": {
      "application/vnd.microsoft.datawrangler.viewer.v0+json": {
       "columns": [
        {
         "name": "index",
         "rawType": "int64",
         "type": "integer"
        },
        {
         "name": "depdel15",
         "rawType": "float64",
         "type": "float"
        },
        {
         "name": "depdelayminutes",
         "rawType": "float64",
         "type": "float"
        },
        {
         "name": "is_late_departure",
         "rawType": "Int8",
         "type": "integer"
        },
        {
         "name": "is_on_time_departure",
         "rawType": "Int8",
         "type": "integer"
        }
       ],
       "ref": "fb68c039-860e-4c3c-8c65-c2ed5f9be2e5",
       "rows": [
        [
         "0",
         "0.0",
         "0.0",
         "0",
         "1"
        ],
        [
         "1",
         "0.0",
         "0.0",
         "0",
         "1"
        ],
        [
         "2",
         "0.0",
         "0.0",
         "0",
         "1"
        ]
       ],
       "shape": {
        "columns": 4,
        "rows": 3
       }
      },
      "text/html": [
       "<div>\n",
       "<style scoped>\n",
       "    .dataframe tbody tr th:only-of-type {\n",
       "        vertical-align: middle;\n",
       "    }\n",
       "\n",
       "    .dataframe tbody tr th {\n",
       "        vertical-align: top;\n",
       "    }\n",
       "\n",
       "    .dataframe thead th {\n",
       "        text-align: right;\n",
       "    }\n",
       "</style>\n",
       "<table border=\"1\" class=\"dataframe\">\n",
       "  <thead>\n",
       "    <tr style=\"text-align: right;\">\n",
       "      <th></th>\n",
       "      <th>depdel15</th>\n",
       "      <th>depdelayminutes</th>\n",
       "      <th>is_late_departure</th>\n",
       "      <th>is_on_time_departure</th>\n",
       "    </tr>\n",
       "  </thead>\n",
       "  <tbody>\n",
       "    <tr>\n",
       "      <th>0</th>\n",
       "      <td>0.0</td>\n",
       "      <td>0.0</td>\n",
       "      <td>0</td>\n",
       "      <td>1</td>\n",
       "    </tr>\n",
       "    <tr>\n",
       "      <th>1</th>\n",
       "      <td>0.0</td>\n",
       "      <td>0.0</td>\n",
       "      <td>0</td>\n",
       "      <td>1</td>\n",
       "    </tr>\n",
       "    <tr>\n",
       "      <th>2</th>\n",
       "      <td>0.0</td>\n",
       "      <td>0.0</td>\n",
       "      <td>0</td>\n",
       "      <td>1</td>\n",
       "    </tr>\n",
       "  </tbody>\n",
       "</table>\n",
       "</div>"
      ],
      "text/plain": [
       "   depdel15  depdelayminutes  is_late_departure  is_on_time_departure\n",
       "0       0.0              0.0                  0                     1\n",
       "1       0.0              0.0                  0                     1\n",
       "2       0.0              0.0                  0                     1"
      ]
     },
     "metadata": {},
     "output_type": "display_data"
    }
   ],
   "source": [
    "def add_departure_flags(df: pd.DataFrame) -> pd.DataFrame:\n",
    "    df = df.copy()\n",
    "    df['depdel15'] = pd.to_numeric(df['depdel15'], errors='coerce')\n",
    "    df['is_late_departure'] = (df['depdel15'] == 1).astype('Int8')\n",
    "    df['is_on_time_departure'] = (1 - df['is_late_departure'].fillna(0)).astype('Int8')\n",
    "    return df\n",
    "\n",
    "df = add_departure_flags(df)\n",
    "preview(df[['depdel15','depdelayminutes','is_late_departure','is_on_time_departure']].head(3))"
   ]
  },
  {
   "cell_type": "markdown",
   "id": "848415a5",
   "metadata": {},
   "source": [
    "## FE4: Airport Coordinates (Origin/Dest)\n",
    "Join `T_MASTER_CORD.csv` on airport IDs, filter `airport_is_latest == 1`, and keep only lat/long."
   ]
  },
  {
   "cell_type": "code",
   "execution_count": 30,
   "id": "eecc1385",
   "metadata": {},
   "outputs": [
    {
     "data": {
      "application/vnd.microsoft.datawrangler.viewer.v0+json": {
       "columns": [
        {
         "name": "index",
         "rawType": "int64",
         "type": "integer"
        },
        {
         "name": "origin",
         "rawType": "string",
         "type": "string"
        },
        {
         "name": "origin_lat",
         "rawType": "float64",
         "type": "float"
        },
        {
         "name": "origin_long",
         "rawType": "float64",
         "type": "float"
        },
        {
         "name": "dest",
         "rawType": "string",
         "type": "string"
        },
        {
         "name": "dest_lat",
         "rawType": "float64",
         "type": "float"
        },
        {
         "name": "dest_long",
         "rawType": "float64",
         "type": "float"
        }
       ],
       "ref": "42d04390-5027-4d55-af1d-9f2eee1de78e",
       "rows": [
        [
         "0",
         "LGA",
         "40.77722222",
         "-73.8725",
         "OMA",
         "41.30305556",
         "-95.89388889"
        ],
        [
         "1",
         "LGA",
         "40.77722222",
         "-73.8725",
         "OMA",
         "41.30305556",
         "-95.89388889"
        ],
        [
         "2",
         "LGA",
         "40.77722222",
         "-73.8725",
         "OMA",
         "41.30305556",
         "-95.89388889"
        ]
       ],
       "shape": {
        "columns": 6,
        "rows": 3
       }
      },
      "text/html": [
       "<div>\n",
       "<style scoped>\n",
       "    .dataframe tbody tr th:only-of-type {\n",
       "        vertical-align: middle;\n",
       "    }\n",
       "\n",
       "    .dataframe tbody tr th {\n",
       "        vertical-align: top;\n",
       "    }\n",
       "\n",
       "    .dataframe thead th {\n",
       "        text-align: right;\n",
       "    }\n",
       "</style>\n",
       "<table border=\"1\" class=\"dataframe\">\n",
       "  <thead>\n",
       "    <tr style=\"text-align: right;\">\n",
       "      <th></th>\n",
       "      <th>origin</th>\n",
       "      <th>origin_lat</th>\n",
       "      <th>origin_long</th>\n",
       "      <th>dest</th>\n",
       "      <th>dest_lat</th>\n",
       "      <th>dest_long</th>\n",
       "    </tr>\n",
       "  </thead>\n",
       "  <tbody>\n",
       "    <tr>\n",
       "      <th>0</th>\n",
       "      <td>LGA</td>\n",
       "      <td>40.777222</td>\n",
       "      <td>-73.8725</td>\n",
       "      <td>OMA</td>\n",
       "      <td>41.303056</td>\n",
       "      <td>-95.893889</td>\n",
       "    </tr>\n",
       "    <tr>\n",
       "      <th>1</th>\n",
       "      <td>LGA</td>\n",
       "      <td>40.777222</td>\n",
       "      <td>-73.8725</td>\n",
       "      <td>OMA</td>\n",
       "      <td>41.303056</td>\n",
       "      <td>-95.893889</td>\n",
       "    </tr>\n",
       "    <tr>\n",
       "      <th>2</th>\n",
       "      <td>LGA</td>\n",
       "      <td>40.777222</td>\n",
       "      <td>-73.8725</td>\n",
       "      <td>OMA</td>\n",
       "      <td>41.303056</td>\n",
       "      <td>-95.893889</td>\n",
       "    </tr>\n",
       "  </tbody>\n",
       "</table>\n",
       "</div>"
      ],
      "text/plain": [
       "  origin  origin_lat  origin_long dest   dest_lat  dest_long\n",
       "0    LGA   40.777222     -73.8725  OMA  41.303056 -95.893889\n",
       "1    LGA   40.777222     -73.8725  OMA  41.303056 -95.893889\n",
       "2    LGA   40.777222     -73.8725  OMA  41.303056 -95.893889"
      ]
     },
     "metadata": {},
     "output_type": "display_data"
    }
   ],
   "source": [
    "airports = pd.read_csv(dims_airport_path, dtype=str)\n",
    "airports = standardize_columns(airports)\n",
    "airports = airports[airports['airport_is_latest'] == '1']\n",
    "airports = airports[['airport_id','latitude','longitude']].copy()\n",
    "airports['airport_id'] = pd.to_numeric(airports['airport_id'], errors='coerce').astype('Int64')\n",
    "airports['latitude'] = pd.to_numeric(airports['latitude'], errors='coerce')\n",
    "airports['longitude'] = pd.to_numeric(airports['longitude'], errors='coerce')\n",
    "\n",
    "df = df.merge(airports.rename(columns={'airport_id':'originairportid', 'latitude':'origin_lat', 'longitude':'origin_long'}),\n",
    "               on='originairportid', how='left')\n",
    "df = df.merge(airports.rename(columns={'airport_id':'destairportid', 'latitude':'dest_lat', 'longitude':'dest_long'}),\n",
    "               on='destairportid', how='left')\n",
    "preview(df[['origin','origin_lat','origin_long','dest','dest_lat','dest_long']].head(3))"
   ]
  },
  {
   "cell_type": "markdown",
   "id": "70e7a18b",
   "metadata": {},
   "source": [
    "## FE5: Airline Name (Join on IATA Code)\n",
    "Parse IATA code and airline name from `L_AIRLINE_ID.csv` descriptions, then join to flights."
   ]
  },
  {
   "cell_type": "code",
   "execution_count": 31,
   "id": "e57cb055",
   "metadata": {},
   "outputs": [
    {
     "data": {
      "application/vnd.microsoft.datawrangler.viewer.v0+json": {
       "columns": [
        {
         "name": "index",
         "rawType": "int64",
         "type": "integer"
        },
        {
         "name": "iata_code_reporting_airline",
         "rawType": "object",
         "type": "string"
        },
        {
         "name": "airline_name",
         "rawType": "object",
         "type": "string"
        }
       ],
       "ref": "34b39a04-b98c-4ccd-8485-47094d42f113",
       "rows": [
        [
         "0",
         "9E",
         "Endeavor Air Inc."
        ],
        [
         "1",
         "9E",
         "Endeavor Air Inc."
        ],
        [
         "2",
         "9E",
         "Endeavor Air Inc."
        ]
       ],
       "shape": {
        "columns": 2,
        "rows": 3
       }
      },
      "text/html": [
       "<div>\n",
       "<style scoped>\n",
       "    .dataframe tbody tr th:only-of-type {\n",
       "        vertical-align: middle;\n",
       "    }\n",
       "\n",
       "    .dataframe tbody tr th {\n",
       "        vertical-align: top;\n",
       "    }\n",
       "\n",
       "    .dataframe thead th {\n",
       "        text-align: right;\n",
       "    }\n",
       "</style>\n",
       "<table border=\"1\" class=\"dataframe\">\n",
       "  <thead>\n",
       "    <tr style=\"text-align: right;\">\n",
       "      <th></th>\n",
       "      <th>iata_code_reporting_airline</th>\n",
       "      <th>airline_name</th>\n",
       "    </tr>\n",
       "  </thead>\n",
       "  <tbody>\n",
       "    <tr>\n",
       "      <th>0</th>\n",
       "      <td>9E</td>\n",
       "      <td>Endeavor Air Inc.</td>\n",
       "    </tr>\n",
       "    <tr>\n",
       "      <th>1</th>\n",
       "      <td>9E</td>\n",
       "      <td>Endeavor Air Inc.</td>\n",
       "    </tr>\n",
       "    <tr>\n",
       "      <th>2</th>\n",
       "      <td>9E</td>\n",
       "      <td>Endeavor Air Inc.</td>\n",
       "    </tr>\n",
       "  </tbody>\n",
       "</table>\n",
       "</div>"
      ],
      "text/plain": [
       "  iata_code_reporting_airline       airline_name\n",
       "0                          9E  Endeavor Air Inc.\n",
       "1                          9E  Endeavor Air Inc.\n",
       "2                          9E  Endeavor Air Inc."
      ]
     },
     "metadata": {},
     "output_type": "display_data"
    }
   ],
   "source": [
    "airlines = pd.read_csv(dims_airline_path, dtype=str)\n",
    "airlines = standardize_columns(airlines)\n",
    "# Expect columns: 'code' (numeric id), 'description' like 'Southwest Airlines Co.: WN'\n",
    "def split_airline_desc(s):\n",
    "    if pd.isna(s):\n",
    "        return pd.Series({'airline_name': np.nan, 'iata_code': np.nan})\n",
    "    parts = str(s).split(':')\n",
    "    if len(parts) >= 2:\n",
    "        name = parts[0].strip()\n",
    "        code = parts[1].strip()\n",
    "        return pd.Series({'airline_name': name, 'iata_code': code})\n",
    "    return pd.Series({'airline_name': str(s).strip(), 'iata_code': np.nan})\n",
    "\n",
    "airlines[['airline_name','iata_code']] = airlines['description'].apply(split_airline_desc)\n",
    "airlines['iata_code'] = airlines['iata_code'].str.upper()\n",
    "airline_lookup = airlines[['iata_code','airline_name']].dropna(subset=['iata_code']).drop_duplicates()\n",
    "\n",
    "df = df.merge(airline_lookup, left_on='iata_code_reporting_airline', right_on='iata_code', how='left')\n",
    "df = df.drop(columns=['iata_code'])\n",
    "preview(df[['iata_code_reporting_airline','airline_name']].head(3))"
   ]
  },
  {
   "cell_type": "markdown",
   "id": "b0c76997",
   "metadata": {},
   "source": [
    "## FE6: Stratified Down-Sampling (10%)\n",
    "Stratify by `month`, `iata_code_reporting_airline`, and `depdel15` to preserve seasonality, carrier mix, and delay balance."
   ]
  },
  {
   "cell_type": "code",
   "execution_count": 32,
   "id": "614c921a",
   "metadata": {},
   "outputs": [
    {
     "name": "stdout",
     "output_type": "stream",
     "text": [
      "Sampled rows: 59068 out of 590474\n"
     ]
    },
    {
     "name": "stderr",
     "output_type": "stream",
     "text": [
      "/var/folders/gk/zmj73pwn5k7cp0b6dk9t9mrw0000gn/T/ipykernel_8469/565455739.py:7: FutureWarning: DataFrameGroupBy.apply operated on the grouping columns. This behavior is deprecated, and in a future version of pandas the grouping columns will be excluded from the operation. Either pass `include_groups=False` to exclude the groupings or explicitly select the grouping columns after groupby to silence this warning.\n",
      "  return df.groupby(keys, dropna=False, as_index=False, group_keys=False).apply(take_sample)\n"
     ]
    },
    {
     "data": {
      "application/vnd.microsoft.datawrangler.viewer.v0+json": {
       "columns": [
        {
         "name": "index",
         "rawType": "int64",
         "type": "integer"
        },
        {
         "name": "month",
         "rawType": "Int64",
         "type": "integer"
        },
        {
         "name": "iata_code_reporting_airline",
         "rawType": "object",
         "type": "string"
        },
        {
         "name": "depdel15",
         "rawType": "float64",
         "type": "float"
        }
       ],
       "ref": "b65e83f2-d252-4b98-9baa-c1c15f503dda",
       "rows": [
        [
         "962",
         "1",
         "9E",
         "0.0"
        ],
        [
         "12975",
         "1",
         "9E",
         "0.0"
        ],
        [
         "465",
         "1",
         "9E",
         "0.0"
        ]
       ],
       "shape": {
        "columns": 3,
        "rows": 3
       }
      },
      "text/html": [
       "<div>\n",
       "<style scoped>\n",
       "    .dataframe tbody tr th:only-of-type {\n",
       "        vertical-align: middle;\n",
       "    }\n",
       "\n",
       "    .dataframe tbody tr th {\n",
       "        vertical-align: top;\n",
       "    }\n",
       "\n",
       "    .dataframe thead th {\n",
       "        text-align: right;\n",
       "    }\n",
       "</style>\n",
       "<table border=\"1\" class=\"dataframe\">\n",
       "  <thead>\n",
       "    <tr style=\"text-align: right;\">\n",
       "      <th></th>\n",
       "      <th>month</th>\n",
       "      <th>iata_code_reporting_airline</th>\n",
       "      <th>depdel15</th>\n",
       "    </tr>\n",
       "  </thead>\n",
       "  <tbody>\n",
       "    <tr>\n",
       "      <th>962</th>\n",
       "      <td>1</td>\n",
       "      <td>9E</td>\n",
       "      <td>0.0</td>\n",
       "    </tr>\n",
       "    <tr>\n",
       "      <th>12975</th>\n",
       "      <td>1</td>\n",
       "      <td>9E</td>\n",
       "      <td>0.0</td>\n",
       "    </tr>\n",
       "    <tr>\n",
       "      <th>465</th>\n",
       "      <td>1</td>\n",
       "      <td>9E</td>\n",
       "      <td>0.0</td>\n",
       "    </tr>\n",
       "  </tbody>\n",
       "</table>\n",
       "</div>"
      ],
      "text/plain": [
       "       month iata_code_reporting_airline  depdel15\n",
       "962        1                          9E       0.0\n",
       "12975      1                          9E       0.0\n",
       "465        1                          9E       0.0"
      ]
     },
     "metadata": {},
     "output_type": "display_data"
    }
   ],
   "source": [
    "def stratified_sample(df: pd.DataFrame, keys, frac: float, random_state: int) -> pd.DataFrame:\n",
    "    rng = np.random.default_rng(random_state)\n",
    "    def take_sample(g):\n",
    "        n = len(g)\n",
    "        k = max(1, int(math.ceil(n * frac)))\n",
    "        return g.sample(n=min(k, n), random_state=random_state, replace=False)\n",
    "    return df.groupby(keys, dropna=False, as_index=False, group_keys=False).apply(take_sample)\n",
    "\n",
    "df_sampled = stratified_sample(df, SAMPLE_KEYS, SAMPLE_RATE, RANDOM_STATE) if not df.empty else df\n",
    "print('Sampled rows:', len(df_sampled), 'out of', len(df))\n",
    "preview(df_sampled[['month','iata_code_reporting_airline','depdel15']].head(3))"
   ]
  },
  {
   "cell_type": "markdown",
   "id": "5bb9e9e8",
   "metadata": {},
   "source": [
    "## DE6: Final Cleanup\n",
    "Drop redundant and ambiguous columns (e.g., raw flags, IDs used only for joins), keeping BI-useful fields."
   ]
  },
  {
   "cell_type": "code",
   "execution_count": 33,
   "id": "3dea0a9e",
   "metadata": {},
   "outputs": [
    {
     "name": "stdout",
     "output_type": "stream",
     "text": [
      "Dropping unwanted cols: ['tail_number', 'depdel15', 'reporting_airline', 'dot_id_reporting_airline', 'iata_code_reporting_airline', 'originairportid', 'destairportid', 'originairportseqid', 'destairportseqid', 'origincitymarketid', 'destcitymarketid', 'originwac', 'destwac', 'daypart_sched', 'airtime', 'actualelapsedtime', 'crselapsedtime', 'arrtimeblk', 'arrivaldelaygroups', 'deptimeblk', 'departuredelaygroups', 'depdelay', 'crsdeptime', 'originstatefips', 'deststatefips', 'wheelsoff', 'wheelson', 'taxiout', 'taxiin']\n"
     ]
    },
    {
     "data": {
      "application/vnd.microsoft.datawrangler.viewer.v0+json": {
       "columns": [
        {
         "name": "index",
         "rawType": "int64",
         "type": "integer"
        },
        {
         "name": "0",
         "rawType": "object",
         "type": "string"
        }
       ],
       "ref": "607bb910-766f-42b5-9b07-da3a8cc20402",
       "rows": [
        [
         "0",
         "airline_name"
        ],
        [
         "1",
         "arrdel15"
        ],
        [
         "2",
         "arrdelay"
        ]
       ],
       "shape": {
        "columns": 1,
        "rows": 3
       }
      },
      "text/plain": [
       "0    airline_name\n",
       "1        arrdel15\n",
       "2        arrdelay\n",
       "dtype: object"
      ]
     },
     "metadata": {},
     "output_type": "display_data"
    }
   ],
   "source": [
    "UNWANTED_COLS = [\n",
    "    # Airline/carrier identifiers duplicated by joins\n",
    "    'tail_number', 'depdel15', 'reporting_airline', 'dot_id_reporting_airline', 'iata_code_reporting_airline',\n",
    "    # Airport/location IDs used only for joins (keep IATA codes + lat/long)\n",
    "    'originairportid', 'destairportid', 'originairportseqid', 'destairportseqid',\n",
    "    'origincitymarketid', 'destcitymarketid', 'originwac', 'destwac', 'daypart_sched', 'airtime', 'actualelapsedtime', 'crselapsedtime', \n",
    "    'arrtimeblk', 'arrivaldelaygroups', 'deptimeblk', 'departuredelaygroups', 'depdelay', 'crsdeptime',\n",
    "    'originstatefips', 'deststatefips', 'wheelsoff', 'wheelson', 'taxiout', 'taxiin']  \n",
    "\n",
    "def drop_unwanted(df: pd.DataFrame, cols) -> pd.DataFrame:\n",
    "    existing = [c for c in cols if c in df.columns]\n",
    "    print('Dropping unwanted cols:', existing)\n",
    "    return df.drop(columns=existing)\n",
    "\n",
    "df_final = drop_unwanted(df_sampled, UNWANTED_COLS)\n",
    "preview(pd.Series(sorted(df_final.columns)).head(12))"
   ]
  },
  {
   "cell_type": "markdown",
   "id": "5886c831",
   "metadata": {},
   "source": [
    "## Export to Parquet\n",
    "Write the engineered, sampled dataset to `data/output`."
   ]
  },
  {
   "cell_type": "code",
   "execution_count": 34,
   "id": "f3e34570",
   "metadata": {},
   "outputs": [
    {
     "data": {
      "application/vnd.microsoft.datawrangler.viewer.v0+json": {
       "columns": [
        {
         "name": "index",
         "rawType": "int64",
         "type": "integer"
        },
        {
         "name": "written_to",
         "rawType": "object",
         "type": "string"
        }
       ],
       "ref": "03570679-321e-4b40-a839-24cfe67df3f6",
       "rows": [
        [
         "0",
         "../data/output/flights_2024_clean_sampled.parquet"
        ]
       ],
       "shape": {
        "columns": 1,
        "rows": 1
       }
      },
      "text/html": [
       "<div>\n",
       "<style scoped>\n",
       "    .dataframe tbody tr th:only-of-type {\n",
       "        vertical-align: middle;\n",
       "    }\n",
       "\n",
       "    .dataframe tbody tr th {\n",
       "        vertical-align: top;\n",
       "    }\n",
       "\n",
       "    .dataframe thead th {\n",
       "        text-align: right;\n",
       "    }\n",
       "</style>\n",
       "<table border=\"1\" class=\"dataframe\">\n",
       "  <thead>\n",
       "    <tr style=\"text-align: right;\">\n",
       "      <th></th>\n",
       "      <th>written_to</th>\n",
       "    </tr>\n",
       "  </thead>\n",
       "  <tbody>\n",
       "    <tr>\n",
       "      <th>0</th>\n",
       "      <td>../data/output/flights_2024_clean_sampled.parquet</td>\n",
       "    </tr>\n",
       "  </tbody>\n",
       "</table>\n",
       "</div>"
      ],
      "text/plain": [
       "                                          written_to\n",
       "0  ../data/output/flights_2024_clean_sampled.parquet"
      ]
     },
     "metadata": {},
     "output_type": "display_data"
    }
   ],
   "source": [
    "df_final.to_parquet(OUTPUT_PARQUET, index=False)\n",
    "preview(pd.DataFrame({'written_to': [str(OUTPUT_PARQUET)]}))"
   ]
  },
  {
   "cell_type": "markdown",
   "id": "5945bd3e",
   "metadata": {},
   "source": [
    "## Validation Visuals\n",
    "Quick plots to sanity-check distributions and feature derivations."
   ]
  },
  {
   "cell_type": "code",
   "execution_count": 35,
   "id": "86aa5e16",
   "metadata": {},
   "outputs": [
    {
     "data": {
      "application/vnd.microsoft.datawrangler.viewer.v0+json": {
       "columns": [
        {
         "name": "index",
         "rawType": "int64",
         "type": "integer"
        },
        {
         "name": "note",
         "rawType": "object",
         "type": "string"
        }
       ],
       "ref": "ee4c161e-f906-47c6-b0d9-f6327e33ce55",
       "rows": [
        [
         "0",
         "plots skipped or no data"
        ]
       ],
       "shape": {
        "columns": 1,
        "rows": 1
       }
      },
      "text/html": [
       "<div>\n",
       "<style scoped>\n",
       "    .dataframe tbody tr th:only-of-type {\n",
       "        vertical-align: middle;\n",
       "    }\n",
       "\n",
       "    .dataframe tbody tr th {\n",
       "        vertical-align: top;\n",
       "    }\n",
       "\n",
       "    .dataframe thead th {\n",
       "        text-align: right;\n",
       "    }\n",
       "</style>\n",
       "<table border=\"1\" class=\"dataframe\">\n",
       "  <thead>\n",
       "    <tr style=\"text-align: right;\">\n",
       "      <th></th>\n",
       "      <th>note</th>\n",
       "    </tr>\n",
       "  </thead>\n",
       "  <tbody>\n",
       "    <tr>\n",
       "      <th>0</th>\n",
       "      <td>plots skipped or no data</td>\n",
       "    </tr>\n",
       "  </tbody>\n",
       "</table>\n",
       "</div>"
      ],
      "text/plain": [
       "                       note\n",
       "0  plots skipped or no data"
      ]
     },
     "metadata": {},
     "output_type": "display_data"
    }
   ],
   "source": [
    "if SHOW_PLOTS and not df.empty:\n",
    "    fig, axes = plt.subplots(1, 3, figsize=(15,4))\n",
    "    sns.countplot(data=df, x='daypart_sched', ax=axes[0], order=['night','early_morning','morning','afternoon','late_afternoon','evening'])\n",
    "    axes[0].set_title('Scheduled Dayparts')\n",
    "    sns.countplot(data=df, x='is_late_departure', ax=axes[1])\n",
    "    axes[1].set_title('Late Departure Flag')\n",
    "    sns.countplot(data=df, x='origin_tier', ax=axes[2], order=['Tier 1','Tier 2','Tier 3'])\n",
    "    axes[2].set_title('Origin Tiers')\n",
    "    plt.tight_layout()\n",
    "    plt.show()\n",
    "    preview(df[['daypart_sched','is_late_departure','origin_tier']].head(3))\n",
    "else:\n",
    "    preview(pd.DataFrame({'note': ['plots skipped or no data']}))"
   ]
  }
 ],
 "metadata": {
  "kernelspec": {
   "display_name": ".venv",
   "language": "python",
   "name": "python3"
  },
  "language_info": {
   "codemirror_mode": {
    "name": "ipython",
    "version": 3
   },
   "file_extension": ".py",
   "mimetype": "text/x-python",
   "name": "python",
   "nbconvert_exporter": "python",
   "pygments_lexer": "ipython3",
   "version": "3.13.5"
  }
 },
 "nbformat": 4,
 "nbformat_minor": 5
}
